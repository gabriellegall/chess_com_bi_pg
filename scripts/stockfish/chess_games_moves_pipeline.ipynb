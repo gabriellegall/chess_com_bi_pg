{
 "cells": [
  {
   "cell_type": "code",
   "execution_count": 1,
   "id": "de446a37",
   "metadata": {},
   "outputs": [],
   "source": [
    "%reset -f"
   ]
  },
  {
   "cell_type": "code",
   "execution_count": 2,
   "id": "eec623eb",
   "metadata": {},
   "outputs": [],
   "source": [
    "import os\n",
    "import pandas as pd\n",
    "import chess.pgn\n",
    "import chess.engine\n",
    "import io\n",
    "import asyncio\n",
    "import yaml\n",
    "from datetime import datetime\n",
    "import platform\n",
    "\n",
    "def analyze_chess_game(uuid: str, pgn: str, engine_path: str) -> pd.DataFrame:\n",
    "    # Load the PGN\n",
    "    game = chess.pgn.read_game(io.StringIO(pgn))\n",
    "\n",
    "    if game is None:\n",
    "        print(f\"Warning: Failed to parse PGN for game {uuid}\")\n",
    "        return pd.DataFrame(columns=[\"uuid\", \"move_number\", \"move\", \"score_white\"])\n",
    "\n",
    "    # Initialize lists to hold data\n",
    "    move_numbers = []\n",
    "    moves = []\n",
    "    scores_white = []\n",
    "\n",
    "    # Analyze the game\n",
    "    with chess.engine.SimpleEngine.popen_uci(engine_path) as engine:\n",
    "        board = game.board()\n",
    "\n",
    "        for i, move in enumerate(game.mainline_moves(), 1):\n",
    "            board.push(move)\n",
    "            info = engine.analyse(board, chess.engine.Limit(time=0.1))\n",
    "            score_white = info[\"score\"].white().score(mate_score=1000)\n",
    "\n",
    "            # Append data to lists\n",
    "            move_numbers.append(i)\n",
    "            moves.append(move.uci())\n",
    "            scores_white.append(score_white)\n",
    "\n",
    "    # Create a DataFrame\n",
    "    df = pd.DataFrame({\n",
    "        \"uuid\": [uuid] * len(move_numbers),\n",
    "        \"move_number\": move_numbers,\n",
    "        \"move\": moves,\n",
    "        \"score_white\": scores_white\n",
    "    })\n",
    "\n",
    "    return df\n",
    "\n",
    "def analyze_multiple_games(games: pd.DataFrame, engine_path: str) -> pd.DataFrame:\n",
    "    game_dfs = []\n",
    "    processed_games = 0\n",
    "\n",
    "    # Iterate over each game in the dataframe\n",
    "    for _, row in games.iterrows():\n",
    "        uuid = row['uuid']\n",
    "        pgn = row['pgn']\n",
    "\n",
    "        # Analyze the game and append the result to the list\n",
    "        game_df = analyze_chess_game(uuid, pgn, engine_path)\n",
    "        game_dfs.append(game_df)\n",
    "\n",
    "        # Increment and print the number of processed games\n",
    "        processed_games += 1\n",
    "        print(f\"Processed {processed_games} games\", flush=True)\n",
    "\n",
    "    # Concatenate all dataframes into one\n",
    "    return pd.concat(game_dfs, ignore_index=True)\n",
    "\n",
    "def get_stockfish_path():\n",
    "    if platform.system() == \"Windows\":\n",
    "        if hasattr(asyncio, 'WindowsProactorEventLoopPolicy'):\n",
    "            asyncio.set_event_loop_policy(asyncio.WindowsProactorEventLoopPolicy())\n",
    "        return \"C:/Program Files/ChessEngines/stockfish_16/stockfish-windows-x86-64-avx2.exe\"\n",
    "    return \"/usr/games/stockfish\""
   ]
  },
  {
   "cell_type": "code",
   "execution_count": 3,
   "id": "7bf6b721",
   "metadata": {},
   "outputs": [
    {
     "name": "stdout",
     "output_type": "stream",
     "text": [
      "Query to fetch games executed successfully!\n"
     ]
    }
   ],
   "source": [
    "import pandas as pd\n",
    "from sqlalchemy import create_engine, inspect, text\n",
    "\n",
    "# Configuration — adjust to your local PostgreSQL setup\n",
    "DB_NAME         = \"sandbox\"\n",
    "DB_USER         = \"postgres\"\n",
    "DB_PASSWORD     = \"AsidDe5845edDikkDee\"\n",
    "DB_HOST         = \"localhost\"\n",
    "DB_PORT         = \"5432\"\n",
    "\n",
    "engine = create_engine(f\"postgresql://{DB_USER}:{DB_PASSWORD}@{DB_HOST}:{DB_PORT}/{DB_NAME}\")\n",
    "\n",
    "# Define your table names (no backticks needed in PostgreSQL)\n",
    "schema_games        = \"stg_chess_com\"\n",
    "table_games         = \"players_games\"\n",
    "schema_games_moves  = \"stg_stockfish\"\n",
    "table_games_moves   = \"players_games_moves\"\n",
    "\n",
    "# Helper: check if table with prefix exists\n",
    "def table_with_prefix_exists(engine, schema_name, table_prefix):\n",
    "    inspector = inspect(engine)\n",
    "    tables = inspector.get_table_names(schema=schema_name)\n",
    "    return any(t.startswith(table_prefix) for t in tables)\n",
    "\n",
    "# Choose query based on table existence\n",
    "if table_with_prefix_exists(engine, schema_games_moves, table_games_moves):\n",
    "    query = f\"\"\"\n",
    "    SELECT DISTINCT\n",
    "        uuid,\n",
    "        end_time,\n",
    "        pgn,\n",
    "    FROM {schema_games}.{table_games} game\n",
    "    LEFT JOIN (\n",
    "        SELECT DISTINCT game_uuid FROM {schema_games_moves}.{table_games_moves}\n",
    "    ) games_moves\n",
    "    ON game.game_uuid = games_moves.game_uuid\n",
    "    WHERE \n",
    "        games_moves.game_uuid IS NULL\n",
    "        AND LENGTH(game.pgn) > 0\n",
    "        AND game.rules = 'chess'\n",
    "    \"\"\"\n",
    "else:\n",
    "    query = f\"SELECT * FROM {schema_games}.{table_games} LIMIT 10\"\n",
    "\n",
    "# Run query and load into DataFrame\n",
    "games = pd.read_sql(query, engine)\n",
    "print(\"Query to fetch games executed successfully!\")"
   ]
  },
  {
   "cell_type": "code",
   "execution_count": 4,
   "id": "9bff02e0",
   "metadata": {},
   "outputs": [
    {
     "name": "stdout",
     "output_type": "stream",
     "text": [
      "Processed 1 games\n",
      "Processed 2 games\n",
      "Processed 3 games\n",
      "Processed 4 games\n",
      "Processed 5 games\n",
      "Processed 6 games\n",
      "Processed 7 games\n",
      "Processed 8 games\n",
      "Processed 9 games\n",
      "Processed 10 games\n"
     ]
    }
   ],
   "source": [
    "# Calculate all games moves for all games\n",
    "engine_path = get_stockfish_path()\n",
    "games_moves = analyze_multiple_games(games, engine_path)"
   ]
  },
  {
   "cell_type": "code",
   "execution_count": 5,
   "id": "ca7a3246",
   "metadata": {},
   "outputs": [
    {
     "data": {
      "text/plain": [
       "574"
      ]
     },
     "execution_count": 5,
     "metadata": {},
     "output_type": "execute_result"
    }
   ],
   "source": [
    "with engine.begin() as conn:\n",
    "    conn.execute(text(f\"CREATE SCHEMA IF NOT EXISTS {schema_games_moves}\"))\n",
    "\n",
    "games_moves.to_sql(\n",
    "    name        = table_games_moves,\n",
    "    con         = engine,\n",
    "    schema      = schema_games_moves,     \n",
    "    if_exists   = 'append', # If the table exists\n",
    "    index       = False # Ignore the df index   \n",
    ")"
   ]
  }
 ],
 "metadata": {
  "kernelspec": {
   "display_name": "venv",
   "language": "python",
   "name": "python3"
  },
  "language_info": {
   "codemirror_mode": {
    "name": "ipython",
    "version": 3
   },
   "file_extension": ".py",
   "mimetype": "text/x-python",
   "name": "python",
   "nbconvert_exporter": "python",
   "pygments_lexer": "ipython3",
   "version": "3.12.5"
  }
 },
 "nbformat": 4,
 "nbformat_minor": 5
}
