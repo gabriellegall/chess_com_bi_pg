{
 "cells": [
  {
   "cell_type": "code",
   "execution_count": 43,
   "id": "de446a37",
   "metadata": {},
   "outputs": [],
   "source": [
    "%reset -f"
   ]
  },
  {
   "cell_type": "code",
   "execution_count": 44,
   "id": "eec623eb",
   "metadata": {},
   "outputs": [],
   "source": [
    "import os\n",
    "import pandas as pd\n",
    "import chess.pgn\n",
    "import chess.engine\n",
    "import io\n",
    "import asyncio\n",
    "import yaml\n",
    "from datetime import datetime\n",
    "import platform\n",
    "\n",
    "def analyze_chess_game(uuid: str, pgn: str, engine_path: str) -> pd.DataFrame:\n",
    "    # Load the PGN\n",
    "    game = chess.pgn.read_game(io.StringIO(pgn))\n",
    "\n",
    "    if game is None:\n",
    "        print(f\"Warning: Failed to parse PGN for game {uuid}\")\n",
    "        return pd.DataFrame(columns=[\"uuid\", \"move_number\", \"move\", \"score_white\"])\n",
    "\n",
    "    # Initialize lists to hold data\n",
    "    move_numbers = []\n",
    "    moves = []\n",
    "    scores_white = []\n",
    "\n",
    "    # Analyze the game\n",
    "    with chess.engine.SimpleEngine.popen_uci(engine_path) as engine:\n",
    "        board = game.board()\n",
    "\n",
    "        for i, move in enumerate(game.mainline_moves(), 1):\n",
    "            board.push(move)\n",
    "            info = engine.analyse(board, chess.engine.Limit(time=0.1))\n",
    "            score_white = info[\"score\"].white().score(mate_score=1000)\n",
    "\n",
    "            # Append data to lists\n",
    "            move_numbers.append(i)\n",
    "            moves.append(move.uci())\n",
    "            scores_white.append(score_white)\n",
    "\n",
    "    # Create a DataFrame\n",
    "    df = pd.DataFrame({\n",
    "        \"uuid\": [uuid] * len(move_numbers),\n",
    "        \"move_number\": move_numbers,\n",
    "        \"move\": moves,\n",
    "        \"score_white\": scores_white\n",
    "    })\n",
    "\n",
    "    return df\n",
    "\n",
    "def analyze_multiple_games(games: pd.DataFrame, engine_path: str) -> pd.DataFrame:\n",
    "    game_dfs = []\n",
    "    processed_games = 0\n",
    "\n",
    "    # Iterate over each game in the dataframe\n",
    "    for _, row in games.iterrows():\n",
    "        uuid = row['uuid']\n",
    "        pgn = row['pgn']\n",
    "\n",
    "        # Analyze the game and append the result to the list\n",
    "        game_df = analyze_chess_game(uuid, pgn, engine_path)\n",
    "        game_dfs.append(game_df)\n",
    "\n",
    "        # Increment and print the number of processed games\n",
    "        processed_games += 1\n",
    "        print(f\"Processed {processed_games} games\", flush=True)\n",
    "\n",
    "    # Concatenate all dataframes into one\n",
    "    return pd.concat(game_dfs, ignore_index=True)\n",
    "\n",
    "def get_stockfish_path():\n",
    "    if platform.system() == \"Windows\":\n",
    "        if hasattr(asyncio, 'WindowsProactorEventLoopPolicy'):\n",
    "            asyncio.set_event_loop_policy(asyncio.WindowsProactorEventLoopPolicy())\n",
    "        return \"C:/Program Files/ChessEngines/stockfish_16/stockfish-windows-x86-64-avx2.exe\"\n",
    "    return \"/usr/games/stockfish\""
   ]
  },
  {
   "cell_type": "code",
   "execution_count": 45,
   "id": "7bf6b721",
   "metadata": {},
   "outputs": [
    {
     "name": "stdout",
     "output_type": "stream",
     "text": [
      "Query to fetch games executed successfully!\n"
     ]
    }
   ],
   "source": [
    "import pandas as pd\n",
    "from sqlalchemy import create_engine, inspect, text\n",
    "\n",
    "# Configuration — adjust to your local PostgreSQL setup\n",
    "DB_NAME         = \"sandbox\"\n",
    "DB_USER         = \"postgres\"\n",
    "DB_PASSWORD     = \"AsidDe5845edDikkDee\"\n",
    "DB_HOST         = \"localhost\"\n",
    "DB_PORT         = \"5432\"\n",
    "\n",
    "engine = create_engine(f\"postgresql://{DB_USER}:{DB_PASSWORD}@{DB_HOST}:{DB_PORT}/{DB_NAME}\")\n",
    "\n",
    "# Define your table names (no backticks needed in PostgreSQL)\n",
    "schema_games        = \"stg_chess_com\"\n",
    "table_games         = \"players_games\"\n",
    "schema_games_moves  = \"stg_stockfish\"\n",
    "table_games_moves   = \"players_games_moves\"\n",
    "\n",
    "# Helper: check if table with prefix exists\n",
    "def table_with_prefix_exists(engine, schema_name, table_prefix):\n",
    "    inspector = inspect(engine)\n",
    "    tables = inspector.get_table_names(schema=schema_name)\n",
    "    return any(t.startswith(table_prefix) for t in tables)\n",
    "\n",
    "# Choose query based on table existence\n",
    "if table_with_prefix_exists(engine, schema_games_moves, table_games_moves):\n",
    "    query = f\"\"\"\n",
    "    SELECT\n",
    "        game.uuid,\n",
    "        MAX(game.pgn) AS pgn\n",
    "    FROM {schema_games}.{table_games} game\n",
    "    LEFT JOIN (\n",
    "        SELECT DISTINCT uuid FROM {schema_games_moves}.{table_games_moves} games_moves\n",
    "    ) games_moves\n",
    "    ON game.uuid = games_moves.uuid\n",
    "    WHERE \n",
    "        games_moves.uuid IS NULL\n",
    "        AND LENGTH(game.pgn) > 0\n",
    "        AND game.rules = 'chess'\n",
    "    GROUP BY 1\n",
    "    \"\"\"\n",
    "else:\n",
    "    query = f\"SELECT * FROM {schema_games}.{table_games}\"\n",
    "\n",
    "# Run query and load into DataFrame\n",
    "games = pd.read_sql(query, engine)\n",
    "print(\"Query to fetch games executed successfully!\")"
   ]
  },
  {
   "cell_type": "code",
   "execution_count": 46,
   "id": "9bff02e0",
   "metadata": {},
   "outputs": [
    {
     "ename": "ValueError",
     "evalue": "No objects to concatenate",
     "output_type": "error",
     "traceback": [
      "\u001b[31m---------------------------------------------------------------------------\u001b[39m",
      "\u001b[31mValueError\u001b[39m                                Traceback (most recent call last)",
      "\u001b[36mCell\u001b[39m\u001b[36m \u001b[39m\u001b[32mIn[46]\u001b[39m\u001b[32m, line 3\u001b[39m\n\u001b[32m      1\u001b[39m \u001b[38;5;66;03m# Calculate all games moves for all games\u001b[39;00m\n\u001b[32m      2\u001b[39m engine_path = get_stockfish_path()\n\u001b[32m----> \u001b[39m\u001b[32m3\u001b[39m games_moves = \u001b[43manalyze_multiple_games\u001b[49m\u001b[43m(\u001b[49m\u001b[43mgames\u001b[49m\u001b[43m,\u001b[49m\u001b[43m \u001b[49m\u001b[43mengine_path\u001b[49m\u001b[43m)\u001b[49m\n\u001b[32m      4\u001b[39m games_moves[\u001b[33m\"\u001b[39m\u001b[33mlog_timestamp\u001b[39m\u001b[33m\"\u001b[39m] = datetime.now().strftime(\u001b[33m\"\u001b[39m\u001b[33m%\u001b[39m\u001b[33mY-\u001b[39m\u001b[33m%\u001b[39m\u001b[33mm-\u001b[39m\u001b[38;5;132;01m%d\u001b[39;00m\u001b[33m \u001b[39m\u001b[33m%\u001b[39m\u001b[33mH:\u001b[39m\u001b[33m%\u001b[39m\u001b[33mM:\u001b[39m\u001b[33m%\u001b[39m\u001b[33mS\u001b[39m\u001b[33m\"\u001b[39m)\n",
      "\u001b[36mCell\u001b[39m\u001b[36m \u001b[39m\u001b[32mIn[44]\u001b[39m\u001b[32m, line 66\u001b[39m, in \u001b[36manalyze_multiple_games\u001b[39m\u001b[34m(games, engine_path)\u001b[39m\n\u001b[32m     63\u001b[39m     \u001b[38;5;28mprint\u001b[39m(\u001b[33mf\u001b[39m\u001b[33m\"\u001b[39m\u001b[33mProcessed \u001b[39m\u001b[38;5;132;01m{\u001b[39;00mprocessed_games\u001b[38;5;132;01m}\u001b[39;00m\u001b[33m games\u001b[39m\u001b[33m\"\u001b[39m, flush=\u001b[38;5;28;01mTrue\u001b[39;00m)\n\u001b[32m     65\u001b[39m \u001b[38;5;66;03m# Concatenate all dataframes into one\u001b[39;00m\n\u001b[32m---> \u001b[39m\u001b[32m66\u001b[39m \u001b[38;5;28;01mreturn\u001b[39;00m \u001b[43mpd\u001b[49m\u001b[43m.\u001b[49m\u001b[43mconcat\u001b[49m\u001b[43m(\u001b[49m\u001b[43mgame_dfs\u001b[49m\u001b[43m,\u001b[49m\u001b[43m \u001b[49m\u001b[43mignore_index\u001b[49m\u001b[43m=\u001b[49m\u001b[38;5;28;43;01mTrue\u001b[39;49;00m\u001b[43m)\u001b[49m\n",
      "\u001b[36mFile \u001b[39m\u001b[32mc:\\Users\\User\\chess_com_bi_pg\\venv\\Lib\\site-packages\\pandas\\core\\reshape\\concat.py:382\u001b[39m, in \u001b[36mconcat\u001b[39m\u001b[34m(objs, axis, join, ignore_index, keys, levels, names, verify_integrity, sort, copy)\u001b[39m\n\u001b[32m    379\u001b[39m \u001b[38;5;28;01melif\u001b[39;00m copy \u001b[38;5;129;01mand\u001b[39;00m using_copy_on_write():\n\u001b[32m    380\u001b[39m     copy = \u001b[38;5;28;01mFalse\u001b[39;00m\n\u001b[32m--> \u001b[39m\u001b[32m382\u001b[39m op = \u001b[43m_Concatenator\u001b[49m\u001b[43m(\u001b[49m\n\u001b[32m    383\u001b[39m \u001b[43m    \u001b[49m\u001b[43mobjs\u001b[49m\u001b[43m,\u001b[49m\n\u001b[32m    384\u001b[39m \u001b[43m    \u001b[49m\u001b[43maxis\u001b[49m\u001b[43m=\u001b[49m\u001b[43maxis\u001b[49m\u001b[43m,\u001b[49m\n\u001b[32m    385\u001b[39m \u001b[43m    \u001b[49m\u001b[43mignore_index\u001b[49m\u001b[43m=\u001b[49m\u001b[43mignore_index\u001b[49m\u001b[43m,\u001b[49m\n\u001b[32m    386\u001b[39m \u001b[43m    \u001b[49m\u001b[43mjoin\u001b[49m\u001b[43m=\u001b[49m\u001b[43mjoin\u001b[49m\u001b[43m,\u001b[49m\n\u001b[32m    387\u001b[39m \u001b[43m    \u001b[49m\u001b[43mkeys\u001b[49m\u001b[43m=\u001b[49m\u001b[43mkeys\u001b[49m\u001b[43m,\u001b[49m\n\u001b[32m    388\u001b[39m \u001b[43m    \u001b[49m\u001b[43mlevels\u001b[49m\u001b[43m=\u001b[49m\u001b[43mlevels\u001b[49m\u001b[43m,\u001b[49m\n\u001b[32m    389\u001b[39m \u001b[43m    \u001b[49m\u001b[43mnames\u001b[49m\u001b[43m=\u001b[49m\u001b[43mnames\u001b[49m\u001b[43m,\u001b[49m\n\u001b[32m    390\u001b[39m \u001b[43m    \u001b[49m\u001b[43mverify_integrity\u001b[49m\u001b[43m=\u001b[49m\u001b[43mverify_integrity\u001b[49m\u001b[43m,\u001b[49m\n\u001b[32m    391\u001b[39m \u001b[43m    \u001b[49m\u001b[43mcopy\u001b[49m\u001b[43m=\u001b[49m\u001b[43mcopy\u001b[49m\u001b[43m,\u001b[49m\n\u001b[32m    392\u001b[39m \u001b[43m    \u001b[49m\u001b[43msort\u001b[49m\u001b[43m=\u001b[49m\u001b[43msort\u001b[49m\u001b[43m,\u001b[49m\n\u001b[32m    393\u001b[39m \u001b[43m\u001b[49m\u001b[43m)\u001b[49m\n\u001b[32m    395\u001b[39m \u001b[38;5;28;01mreturn\u001b[39;00m op.get_result()\n",
      "\u001b[36mFile \u001b[39m\u001b[32mc:\\Users\\User\\chess_com_bi_pg\\venv\\Lib\\site-packages\\pandas\\core\\reshape\\concat.py:445\u001b[39m, in \u001b[36m_Concatenator.__init__\u001b[39m\u001b[34m(self, objs, axis, join, keys, levels, names, ignore_index, verify_integrity, copy, sort)\u001b[39m\n\u001b[32m    442\u001b[39m \u001b[38;5;28mself\u001b[39m.verify_integrity = verify_integrity\n\u001b[32m    443\u001b[39m \u001b[38;5;28mself\u001b[39m.copy = copy\n\u001b[32m--> \u001b[39m\u001b[32m445\u001b[39m objs, keys = \u001b[38;5;28;43mself\u001b[39;49m\u001b[43m.\u001b[49m\u001b[43m_clean_keys_and_objs\u001b[49m\u001b[43m(\u001b[49m\u001b[43mobjs\u001b[49m\u001b[43m,\u001b[49m\u001b[43m \u001b[49m\u001b[43mkeys\u001b[49m\u001b[43m)\u001b[49m\n\u001b[32m    447\u001b[39m \u001b[38;5;66;03m# figure out what our result ndim is going to be\u001b[39;00m\n\u001b[32m    448\u001b[39m ndims = \u001b[38;5;28mself\u001b[39m._get_ndims(objs)\n",
      "\u001b[36mFile \u001b[39m\u001b[32mc:\\Users\\User\\chess_com_bi_pg\\venv\\Lib\\site-packages\\pandas\\core\\reshape\\concat.py:507\u001b[39m, in \u001b[36m_Concatenator._clean_keys_and_objs\u001b[39m\u001b[34m(self, objs, keys)\u001b[39m\n\u001b[32m    504\u001b[39m     objs_list = \u001b[38;5;28mlist\u001b[39m(objs)\n\u001b[32m    506\u001b[39m \u001b[38;5;28;01mif\u001b[39;00m \u001b[38;5;28mlen\u001b[39m(objs_list) == \u001b[32m0\u001b[39m:\n\u001b[32m--> \u001b[39m\u001b[32m507\u001b[39m     \u001b[38;5;28;01mraise\u001b[39;00m \u001b[38;5;167;01mValueError\u001b[39;00m(\u001b[33m\"\u001b[39m\u001b[33mNo objects to concatenate\u001b[39m\u001b[33m\"\u001b[39m)\n\u001b[32m    509\u001b[39m \u001b[38;5;28;01mif\u001b[39;00m keys \u001b[38;5;129;01mis\u001b[39;00m \u001b[38;5;28;01mNone\u001b[39;00m:\n\u001b[32m    510\u001b[39m     objs_list = \u001b[38;5;28mlist\u001b[39m(com.not_none(*objs_list))\n",
      "\u001b[31mValueError\u001b[39m: No objects to concatenate"
     ]
    }
   ],
   "source": [
    "# Calculate all games moves for all games\n",
    "engine_path = get_stockfish_path()\n",
    "games_moves = analyze_multiple_games(games, engine_path)\n",
    "games_moves[\"log_timestamp\"] = datetime.now().strftime(\"%Y-%m-%d %H:%M:%S\")"
   ]
  },
  {
   "cell_type": "code",
   "execution_count": null,
   "id": "ca7a3246",
   "metadata": {},
   "outputs": [
    {
     "data": {
      "text/plain": [
       "56"
      ]
     },
     "execution_count": 42,
     "metadata": {},
     "output_type": "execute_result"
    }
   ],
   "source": [
    "with engine.begin() as conn:\n",
    "    conn.execute(text(f\"CREATE SCHEMA IF NOT EXISTS {schema_games_moves}\"))\n",
    "\n",
    "games_moves.to_sql(\n",
    "    name        = table_games_moves,\n",
    "    con         = engine,\n",
    "    schema      = schema_games_moves,     \n",
    "    if_exists   = 'append', # If the table exists\n",
    "    index       = False # Ignore the df index   \n",
    ")"
   ]
  }
 ],
 "metadata": {
  "kernelspec": {
   "display_name": "venv",
   "language": "python",
   "name": "python3"
  },
  "language_info": {
   "codemirror_mode": {
    "name": "ipython",
    "version": 3
   },
   "file_extension": ".py",
   "mimetype": "text/x-python",
   "name": "python",
   "nbconvert_exporter": "python",
   "pygments_lexer": "ipython3",
   "version": "3.12.5"
  }
 },
 "nbformat": 4,
 "nbformat_minor": 5
}
