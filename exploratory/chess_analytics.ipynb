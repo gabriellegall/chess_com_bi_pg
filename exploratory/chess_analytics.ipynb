{
 "cells": [
  {
   "cell_type": "code",
   "execution_count": 32,
   "id": "a07f2c8c",
   "metadata": {},
   "outputs": [],
   "source": [
    "from data.loader import load_query\n",
    "import pandas as pd\n",
    "import numpy as np\n",
    "import matplotlib.pyplot as plt\n",
    "import shap\n",
    "import xgboost as xgb\n",
    "from sklearn.metrics import confusion_matrix, ConfusionMatrixDisplay, mean_squared_error, r2_score, accuracy_score\n",
    "from sklearn.model_selection import train_test_split\n",
    "from sklearn.preprocessing import StandardScaler\n",
    "from sklearn.linear_model import LogisticRegression\n",
    "import statsmodels.api as sm\n",
    "\n",
    "data = load_query(\"data/agg_games_with_moves__games.sql\")\n",
    "data = data[data[\"username\"] == 'Zundorn']"
   ]
  },
  {
   "cell_type": "code",
   "execution_count": 33,
   "id": "c3d18f43",
   "metadata": {},
   "outputs": [
    {
     "name": "stdout",
     "output_type": "stream",
     "text": [
      "Optimization terminated successfully.\n",
      "         Current function value: 0.539062\n",
      "         Iterations 5\n",
      "                           Logit Regression Results                           \n",
      "==============================================================================\n",
      "Dep. Variable:         playing_result   No. Observations:                  213\n",
      "Model:                          Logit   Df Residuals:                      211\n",
      "Method:                           MLE   Df Model:                            1\n",
      "Date:                Mon, 21 Jul 2025   Pseudo R-squ.:               0.0005030\n",
      "Time:                        18:08:41   Log-Likelihood:                -114.82\n",
      "converged:                       True   LL-Null:                       -114.88\n",
      "Covariance Type:            nonrobust   LLR p-value:                    0.7339\n",
      "==============================================================================================\n",
      "                                 coef    std err          z      P>|z|      [0.025      0.975]\n",
      "----------------------------------------------------------------------------------------------\n",
      "const                         -1.3326      0.399     -3.342      0.001      -2.114      -0.551\n",
      "nb_massive_blunder_playing     0.1030      0.299      0.344      0.731      -0.483       0.689\n",
      "==============================================================================================\n"
     ]
    }
   ],
   "source": [
    "data = data[data[\"nb_massive_blunder_playing\"] > 0].copy()\n",
    "\n",
    "y = data[\"playing_result\"]\n",
    "X = data[[\"nb_massive_blunder_playing\"]]\n",
    "X = sm.add_constant(X)\n",
    "\n",
    "model = sm.Logit(y, X)\n",
    "result = model.fit()\n",
    "\n",
    "print(result.summary())"
   ]
  }
 ],
 "metadata": {
  "kernelspec": {
   "display_name": "venv",
   "language": "python",
   "name": "python3"
  },
  "language_info": {
   "codemirror_mode": {
    "name": "ipython",
    "version": 3
   },
   "file_extension": ".py",
   "mimetype": "text/x-python",
   "name": "python",
   "nbconvert_exporter": "python",
   "pygments_lexer": "ipython3",
   "version": "3.12.5"
  }
 },
 "nbformat": 4,
 "nbformat_minor": 5
}
