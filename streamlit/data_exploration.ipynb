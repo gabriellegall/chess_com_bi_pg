{
 "cells": [
  {
   "cell_type": "code",
   "execution_count": 15,
   "id": "f0c9467a",
   "metadata": {},
   "outputs": [
    {
     "name": "stderr",
     "output_type": "stream",
     "text": [
      "2025-09-07 22:56:03.443 No runtime found, using MemoryCacheStorageManager\n",
      "2025-09-07 22:56:03.444 No runtime found, using MemoryCacheStorageManager\n",
      "2025-09-07 22:56:03.446 Thread 'MainThread': missing ScriptRunContext! This warning can be ignored when running in bare mode.\n",
      "2025-09-07 22:56:03.447 Thread 'MainThread': missing ScriptRunContext! This warning can be ignored when running in bare mode.\n",
      "2025-09-07 22:56:03.448 Thread 'MainThread': missing ScriptRunContext! This warning can be ignored when running in bare mode.\n",
      "2025-09-07 22:56:03.449 Thread 'MainThread': missing ScriptRunContext! This warning can be ignored when running in bare mode.\n",
      "2025-09-07 22:56:03.603 Thread 'MainThread': missing ScriptRunContext! This warning can be ignored when running in bare mode.\n",
      "2025-09-07 22:56:03.604 Thread 'MainThread': missing ScriptRunContext! This warning can be ignored when running in bare mode.\n",
      "2025-09-07 22:56:03.605 Thread 'MainThread': missing ScriptRunContext! This warning can be ignored when running in bare mode.\n"
     ]
    },
    {
     "data": {
      "application/vnd.plotly.v1+json": {
       "config": {
        "plotlyServerURL": "https://plot.ly"
       },
       "data": [
        {
         "branchvalues": "total",
         "customdata": {
          "bdata": "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",
          "dtype": "f8",
          "shape": "202, 2"
         },
         "domain": {
          "x": [
           0,
           1
          ],
          "y": [
           0,
           1
          ]
         },
         "hovertemplate": "labels=%{label}<br>total_games=%{customdata[0]}<br>parent=%{parent}<br>id=%{id}<br>winrate=%{color:.2%}<extra></extra>",
         "ids": [
          "d2d3 d7d5/https://www.chess.com/openings/Mieses-Opening-1...d5",
          "d2d3 e7e5/https://www.chess.com/openings/Kings-Pawn-Opening-Leonardis-Variation",
          "d2d4 a7a6/https://www.chess.com/openings/Queens-Pawn-Opening-St-George-Defense",
          "d2d4 b7b5/https://www.chess.com/openings/Queens-Pawn-Opening-Polish-Defense",
          "d2d4 b7b6/https://www.chess.com/openings/English-Defense",
          "d2d4 b7b6/https://www.chess.com/openings/Indian-Game-Knights-Variation-2...b6-3.Bf4-Bb7-4.e3",
          "d2d4 b7b6/https://www.chess.com/openings/Indian-Game-London-System-3...b6-4.e3",
          "d2d4 b7b6/https://www.chess.com/openings/Indian-Game-London-System-3...b6-4.e3-Bb7-5.Bd3",
          "d2d4 b7b6/https://www.chess.com/openings/Indian-Game-London-System...4.e3-Bb7-5.Bd3-Be7",
          "d2d4 b8c6/https://www.chess.com/openings/Englund-Gambit-2.dxe5-Nc6-3.Nf3",
          "d2d4 b8c6/https://www.chess.com/openings/Queens-Pawn-Opening-Mikenas-Defense",
          "d2d4 b8c6/https://www.chess.com/openings/Queens-Pawn-Opening-Mikenas-Defense-2.Nf3",
          "d2d4 b8c6/https://www.chess.com/openings/Queens-Pawn-Opening-Zukertort-Chigorin-Variation-3.Bf4-Bg4-4.e3",
          "d2d4 b8c6/https://www.chess.com/openings/Queens-Pawn-Opening-Zukertort-Chigorin-Variation-3.Bf4-Nf6-4.e3",
          "d2d4 c7c5/https://www.chess.com/openings/Old-Benoni-Defense",
          "d2d4 c7c5/https://www.chess.com/openings/Old-Benoni-Defense-2.c3",
          "d2d4 c7c5/https://www.chess.com/openings/Old-Benoni-Defense-2.dxc5",
          "d2d4 c7c5/https://www.chess.com/openings/Old-Benoni-Defense-2.dxc5-e6",
          "d2d4 c7c5/https://www.chess.com/openings/Old-Benoni-Defense-Cormorant-Gambit",
          "d2d4 c7c5/https://www.chess.com/openings/Old-Benoni-Defense-Schlenker-Defense",
          "d2d4 c7c5/https://www.chess.com/openings/Reti-Opening-Sicilian-Invitation-2.d4-cxd4-3.Nxd4",
          "d2d4 c7c6/https://www.chess.com/openings/London-System-3...c6-4.e3",
          "d2d4 c7c6/https://www.chess.com/openings/London-System-3...c6-4.e3-Bf5-5.Bd3",
          "d2d4 c7c6/https://www.chess.com/openings/London-System-3...c6-4.e3-Bg4",
          "d2d4 c7c6/https://www.chess.com/openings/Queens-Pawn-Opening-1...c6",
          "d2d4 c7c6/https://www.chess.com/openings/Queens-Pawn-Opening-Accelerated-London-System-2...c6-3.e3",
          "d2d4 c7c6/https://www.chess.com/openings/Queens-Pawn-Opening-Accelerated-London-System-2...c6-3.e3-Bf5",
          "d2d4 c7c6/https://www.chess.com/openings/Queens-Pawn-Opening-Zukertort-Variation-2...c6-3.Bf4-Bf5-4.e3",
          "d2d4 c7c6/https://www.chess.com/openings/Queens-Pawn-Opening-Zukertort-Variation...3.Bf4-Bf5-4.e3-e6",
          "d2d4 d7d5/https://www.chess.com/openings/Caro-Kann-Defense-Exchange-Rubinstein-Variation-6...e6-7.Nf3",
          "d2d4 d7d5/https://www.chess.com/openings/Caro-Kann-Defense-Exchange-Variation...4.Bf4-Nc6-5.c3-Bf5",
          "d2d4 d7d5/https://www.chess.com/openings/Caro-Kann-Defense-Exchange-Variation...4.Bf4-Nc6-5.c3-Bf5-6.Nf3",
          "d2d4 d7d5/https://www.chess.com/openings/Indian-Game-2.Bf4-e6-3.e3-d5-4.Bd3",
          "d2d4 d7d5/https://www.chess.com/openings/Indian-Game-2.Bf4-e6-3.e3-d5-4.Nf3",
          "d2d4 d7d5/https://www.chess.com/openings/Indian-Game-2.Bf4-e6-3.e3-d5-4.c3",
          "d2d4 d7d5/https://www.chess.com/openings/Indian-Game-2.c3-d5-3.Bf4",
          "d2d4 d7d5/https://www.chess.com/openings/Indian-Game...3.e3-d5-4.Nf3-Bd6",
          "d2d4 d7d5/https://www.chess.com/openings/Indian-Game...3.e3-d5-4.Nf3-Bd6-5.Bd3",
          "d2d4 d7d5/https://www.chess.com/openings/Indian-Game...3.e3-d5-4.Nf3-Bd6-5.Bxd6",
          "d2d4 d7d5/https://www.chess.com/openings/Indian-Game...3.e3-d5-4.Nf3-Bd6-5.Ne5",
          "d2d4 d7d5/https://www.chess.com/openings/Indian-Game...3.e3-d5-4.Nf3-Be7",
          "d2d4 d7d5/https://www.chess.com/openings/Indian-Game...3.e3-d5-4.Nf3-Be7-5.Bd3",
          "d2d4 d7d5/https://www.chess.com/openings/Indian-Game...4.Nf3-Bd6-5.Bxd6-Qxd6",
          "d2d4 d7d5/https://www.chess.com/openings/Indian-Game...4.Nf3-Bd6-5.Ne5-O-O",
          "d2d4 d7d5/https://www.chess.com/openings/London-System",
          "d2d4 d7d5/https://www.chess.com/openings/London-System-3...Bf5-4.e3",
          "d2d4 d7d5/https://www.chess.com/openings/London-System-3...Bf5-4.e3-e6",
          "d2d4 d7d5/https://www.chess.com/openings/London-System-3...Bf5-4.e3-e6-5.Bd3",
          "d2d4 d7d5/https://www.chess.com/openings/London-System-3...c5-4.c3-Nc6-5.e3",
          "d2d4 d7d5/https://www.chess.com/openings/London-System-3...c5-4.c3-e6-5.e3",
          "d2d4 d7d5/https://www.chess.com/openings/London-System-3...c5-4.e3",
          "d2d4 d7d5/https://www.chess.com/openings/London-System-3...c5-4.e3-Nc6",
          "d2d4 d7d5/https://www.chess.com/openings/London-System-3...c5-4.e3-cxd4-5.exd4",
          "d2d4 d7d5/https://www.chess.com/openings/London-System-3...c5-4.e3-e6",
          "d2d4 d7d5/https://www.chess.com/openings/London-System-3...c6-4.e3",
          "d2d4 d7d5/https://www.chess.com/openings/London-System-3...c6-4.e3-Bf5-5.Bd3",
          "d2d4 d7d5/https://www.chess.com/openings/London-System-3...g6-4.e3-Bg7",
          "d2d4 d7d5/https://www.chess.com/openings/London-System...4.c3-Nc6-5.e3-Qb6-6.Qc2",
          "d2d4 d7d5/https://www.chess.com/openings/London-System...4.e3-cxd4-5.exd4-Nc6-6.c3",
          "d2d4 d7d5/https://www.chess.com/openings/London-System...4.e3-e6-5.Bd3-Bxd3-6.Qxd3",
          "d2d4 d7d5/https://www.chess.com/openings/Queens-Pawn-Opening-1...d5",
          "d2d4 d7d5/https://www.chess.com/openings/Queens-Pawn-Opening-Accelerated-London-Steinitz-Countergambit",
          "d2d4 d7d5/https://www.chess.com/openings/Queens-Pawn-Opening-Accelerated-London-Steinitz-Countergambit-3.e3",
          "d2d4 d7d5/https://www.chess.com/openings/Queens-Pawn-Opening-Accelerated-London-Steinitz-Countergambit-3.e3-Nc6-4.Nf3",
          "d2d4 d7d5/https://www.chess.com/openings/Queens-Pawn-Opening-Accelerated-London-Steinitz-Countergambit-3.e3-cxd4",
          "d2d4 d7d5/https://www.chess.com/openings/Queens-Pawn-Opening-Accelerated-London-Steinitz-Countergambit-3.e3-cxd4-4.exd4-Nc6",
          "d2d4 d7d5/https://www.chess.com/openings/Queens-Pawn-Opening-Accelerated-London-System",
          "d2d4 d7d5/https://www.chess.com/openings/Queens-Pawn-Opening-Accelerated-London-System-2...Bf5-3.e3",
          "d2d4 d7d5/https://www.chess.com/openings/Queens-Pawn-Opening-Accelerated-London-System-2...Bf5-3.e3-e6",
          "d2d4 d7d5/https://www.chess.com/openings/Queens-Pawn-Opening-Accelerated-London-System-2...Nf6-3.e3",
          "d2d4 d7d5/https://www.chess.com/openings/Queens-Pawn-Opening-Accelerated-London-System-2...Nf6-3.e3-Bf5",
          "d2d4 d7d5/https://www.chess.com/openings/Queens-Pawn-Opening-Accelerated-London-System-2...Nf6-3.e3-Bg4",
          "d2d4 d7d5/https://www.chess.com/openings/Queens-Pawn-Opening-Accelerated-London-System-2...Nf6-3.e3-c5-4.c3",
          "d2d4 d7d5/https://www.chess.com/openings/Queens-Pawn-Opening-Accelerated-London-System-2...c6-3.e3",
          "d2d4 d7d5/https://www.chess.com/openings/Queens-Pawn-Opening-Accelerated-London-System-2...c6-3.e3-Bf5",
          "d2d4 d7d5/https://www.chess.com/openings/Queens-Pawn-Opening-Accelerated-London-System-2...e6-3.e3",
          "d2d4 d7d5/https://www.chess.com/openings/Queens-Pawn-Opening-Accelerated-London-System-2...e6-3.e3-Bd6",
          "d2d4 d7d5/https://www.chess.com/openings/Queens-Pawn-Opening-Accelerated-London-System-2...e6-3.e3-c5",
          "d2d4 d7d5/https://www.chess.com/openings/Queens-Pawn-Opening-Accelerated-London-System-2...e6-3.e3-c5-4.c3",
          "d2d4 d7d5/https://www.chess.com/openings/Queens-Pawn-Opening-Accelerated-London-System...3.e3-c5-4.c3-Qb6",
          "d2d4 d7d5/https://www.chess.com/openings/Queens-Pawn-Opening-Chigorin-Variation-2...e6-3.Bf4",
          "d2d4 d7d5/https://www.chess.com/openings/Queens-Pawn-Opening-Krause-Variation...4.Bf4-Nc6-5.e3-Nf6",
          "d2d4 d7d5/https://www.chess.com/openings/Queens-Pawn-Opening-Zukertort-Chigorin-Variation-3.Bf4",
          "d2d4 d7d5/https://www.chess.com/openings/Queens-Pawn-Opening-Zukertort-Chigorin-Variation-3.Bf4-Bf5-4.e3",
          "d2d4 d7d5/https://www.chess.com/openings/Queens-Pawn-Opening-Zukertort-Chigorin-Variation-3.Bf4-Bf5-4.e3-e6",
          "d2d4 d7d5/https://www.chess.com/openings/Queens-Pawn-Opening-Zukertort-Chigorin-Variation-3.Bf4-Nf6-4.e3",
          "d2d4 d7d5/https://www.chess.com/openings/Queens-Pawn-Opening-Zukertort-Variation-2...Bf5-3.Bf4",
          "d2d4 d7d5/https://www.chess.com/openings/Queens-Pawn-Opening-Zukertort-Variation-2...Bf5-3.Bf4-e6-4.e3",
          "d2d4 d7d5/https://www.chess.com/openings/Queens-Pawn-Opening-Zukertort-Variation-2...c6-3.Bf4-Bf5-4.e3",
          "d2d4 d7d5/https://www.chess.com/openings/Queens-Pawn-Opening-Zukertort-Variation-2...e6-3.Bf4",
          "d2d4 d7d5/https://www.chess.com/openings/Queens-Pawn-Opening-Zukertort-Variation-2...e6-3.Bf4-c5-4.e3",
          "d2d4 d7d5/https://www.chess.com/openings/Queens-Pawn-Opening-Zukertort-Variation...3.Bf4-Bf5-4.e3-e6",
          "d2d4 d7d5/https://www.chess.com/openings/Queens-Pawn-Opening-Zukertort-Variation...3.Bf4-e6-4.e3-Bd6",
          "d2d4 d7d6/https://www.chess.com/openings/Indian-Game-2.Bf4-d6-3.Nc3",
          "d2d4 d7d6/https://www.chess.com/openings/Indian-Game-2.Bf4-d6-3.e3",
          "d2d4 d7d6/https://www.chess.com/openings/Indian-Game...3.Nc3-Bg7-4.e4-d6-5.Qd2",
          "d2d4 d7d6/https://www.chess.com/openings/Modern-Defense-with-1-d4-2.Nf3-Bg7-3.Bf4-d6-4.e3",
          "d2d4 d7d6/https://www.chess.com/openings/Modern-Defense-with-1-d4...3.Bf4-d6-4.e3-Nf6",
          "d2d4 d7d6/https://www.chess.com/openings/Queens-Pawn-Opening-1...d6",
          "d2d4 d7d6/https://www.chess.com/openings/Queens-Pawn-Opening-1...d6-2.Bf4",
          "d2d4 e7e5/https://www.chess.com/openings/Englund-Gambit",
          "d2d4 e7e5/https://www.chess.com/openings/Englund-Gambit-2.dxe5",
          "d2d4 e7e5/https://www.chess.com/openings/Englund-Gambit-2.dxe5-Nc6",
          "d2d4 e7e5/https://www.chess.com/openings/Englund-Gambit-2.dxe5-Nc6-3.Nf3",
          "d2d4 e7e5/https://www.chess.com/openings/Englund-Gambit-2.dxe5-Nc6-3.Nf3-Qe7",
          "d2d4 e7e5/https://www.chess.com/openings/Englund-Gambit-Mosquito-Gambit",
          "d2d4 e7e6/https://www.chess.com/openings/Indian-Game-2.Bf4-e6-3.e3",
          "d2d4 e7e6/https://www.chess.com/openings/Indian-Game-2.Bf4-e6-3.e3-d5-4.Nf3",
          "d2d4 e7e6/https://www.chess.com/openings/Indian-Game-London-System",
          "d2d4 e7e6/https://www.chess.com/openings/Indian-Game-London-System-3...c5-4.e3",
          "d2d4 e7e6/https://www.chess.com/openings/Indian-Game-London-System-3...c5-4.e3-Nc6-5.c3",
          "d2d4 e7e6/https://www.chess.com/openings/Indian-Game...3.e3-d5-4.Nf3-Bd6-5.Bd3",
          "d2d4 e7e6/https://www.chess.com/openings/Indian-Game...3.e3-d5-4.Nf3-Be7-5.Bd3",
          "d2d4 e7e6/https://www.chess.com/openings/London-System-3...c5-4.e3-e6",
          "d2d4 e7e6/https://www.chess.com/openings/Queens-Pawn-Opening-Accelerated-London-System-2...e6-3.e3",
          "d2d4 e7e6/https://www.chess.com/openings/Queens-Pawn-Opening-Accelerated-London-System-2...e6-3.e3-Bd6",
          "d2d4 e7e6/https://www.chess.com/openings/Queens-Pawn-Opening-Accelerated-London-System-2...e6-3.e3-c5",
          "d2d4 e7e6/https://www.chess.com/openings/Queens-Pawn-Opening-Accelerated-London-System-2...e6-3.e3-c5-4.c3",
          "d2d4 e7e6/https://www.chess.com/openings/Queens-Pawn-Opening-Accelerated-London-System...3.e3-c5-4.c3-Nc6",
          "d2d4 e7e6/https://www.chess.com/openings/Queens-Pawn-Opening-Horwitz-Defense-2.Bf4",
          "d2d4 e7e6/https://www.chess.com/openings/Queens-Pawn-Opening-Horwitz-Defense-2.Bf4-c5",
          "d2d4 e7e6/https://www.chess.com/openings/Queens-Pawn-Opening-Horwitz-Defense...3.Bf4-Nf6-4.e3-b6",
          "d2d4 e7e6/https://www.chess.com/openings/Queens-Pawn-Opening-Krause-Variation-3.c3-e6-4.Bf4-Nc6-5.e3",
          "d2d4 e7e6/https://www.chess.com/openings/Queens-Pawn-Opening-Krause-Variation...4.Bf4-Nc6-5.e3-Bd6",
          "d2d4 e7e6/https://www.chess.com/openings/Queens-Pawn-Opening-Krause-Variation...4.Bf4-Nc6-5.e3-Nf6",
          "d2d4 e7e6/https://www.chess.com/openings/Queens-Pawn-Opening-Zukertort-Variation-2...e6-3.Bf4",
          "d2d4 e7e6/https://www.chess.com/openings/Queens-Pawn-Opening-Zukertort-Variation-2...e6-3.Bf4-c5-4.e3",
          "d2d4 f7f5/https://www.chess.com/openings/Dutch-Defense-2.Bf4",
          "d2d4 f7f5/https://www.chess.com/openings/Dutch-Defense-2.Bf4-Nf6-3.e3",
          "d2d4 f7f5/https://www.chess.com/openings/Dutch-Defense-2.Nf3-Nf6-3.Bf4-g6-4.e3",
          "d2d4 f7f5/https://www.chess.com/openings/Dutch-Defense...3.Bf4-g6-4.e3-Bg7",
          "d2d4 f7f5/https://www.chess.com/openings/Queens-Pawn-Opening-Horwitz-Defense...3.Bf4-Nf6-4.e3-Be7",
          "d2d4 f7f5/https://www.chess.com/openings/Queens-Pawn-Opening-Horwitz-Defense...3.Bf4-Nf6-4.e3-b6",
          "d2d4 f7f6/https://www.chess.com/openings/Queens-Pawn-Opening",
          "d2d4 g7g5/https://www.chess.com/openings/Queens-Pawn-Opening",
          "d2d4 g7g6/https://www.chess.com/openings/Indian-Game-East-Indian-London-System-3...Bg7-4.c3-O-O-5.e3",
          "d2d4 g7g6/https://www.chess.com/openings/Indian-Game-East-Indian-London-System-3...Bg7-4.e3-O-O",
          "d2d4 g7g6/https://www.chess.com/openings/Indian-Game-East-Indian-London-System...4.e3-O-O-5.c3-d6",
          "d2d4 g7g6/https://www.chess.com/openings/Indian-Game...3.Nc3-Bg7-4.e4-d6-5.Qd2",
          "d2d4 g7g6/https://www.chess.com/openings/Modern-Defense-with-1-d4-2.Bf4",
          "d2d4 g7g6/https://www.chess.com/openings/Modern-Defense-with-1-d4-2.Bf4-Bg7",
          "d2d4 g7g6/https://www.chess.com/openings/Modern-Defense-with-1-d4-2.Bf4-Bg7-3.e3",
          "d2d4 g7g6/https://www.chess.com/openings/Modern-Defense-with-1-d4-2.Nf3",
          "d2d4 g7g6/https://www.chess.com/openings/Modern-Defense-with-1-d4-2.Nf3-Bg7-3.Bf4-d6-4.e3",
          "d2d4 g7g6/https://www.chess.com/openings/Modern-Defense-with-1-d4...3.Bf4-d6-4.e3-Nd7",
          "d2d4 g7g6/https://www.chess.com/openings/Modern-Defense-with-1-d4...3.Bf4-d6-4.e3-Nf6",
          "d2d4 g7g6/https://www.chess.com/openings/Queens-Pawn-Opening-1...d6-2.Bf4-g6",
          "d2d4 g8f6/https://www.chess.com/openings/Indian-Game-2.Bf4",
          "d2d4 g8f6/https://www.chess.com/openings/Indian-Game-2.Bf4-c5",
          "d2d4 g8f6/https://www.chess.com/openings/Indian-Game-2.Bf4-c5-3.e3",
          "d2d4 g8f6/https://www.chess.com/openings/Indian-Game-2.Bf4-c5-3.e3-Qb6",
          "d2d4 g8f6/https://www.chess.com/openings/Indian-Game-2.Bf4-d6-3.Nf3",
          "d2d4 g8f6/https://www.chess.com/openings/Indian-Game-2.Bf4-d6-3.e3",
          "d2d4 g8f6/https://www.chess.com/openings/Indian-Game-2.Bf4-e6-3.e3",
          "d2d4 g8f6/https://www.chess.com/openings/Indian-Game-2.Bf4-e6-3.e3-d5-4.Nf3",
          "d2d4 g8f6/https://www.chess.com/openings/Indian-Game-2.Bf4-g6-3.Nc3-Bg7-4.e4",
          "d2d4 g8f6/https://www.chess.com/openings/Indian-Game-2.Bf4-g6-3.e3",
          "d2d4 g8f6/https://www.chess.com/openings/Indian-Game-East-Indian-London-System-3...Bg7-4.e3",
          "d2d4 g8f6/https://www.chess.com/openings/Indian-Game-East-Indian-London-System-3...Bg7-4.e3-O-O",
          "d2d4 g8f6/https://www.chess.com/openings/Indian-Game-East-Indian-London-System-3...Bg7-4.e3-c5-5.c3",
          "d2d4 g8f6/https://www.chess.com/openings/Indian-Game-East-Indian-London-System-3...d6-4.e3",
          "d2d4 g8f6/https://www.chess.com/openings/Indian-Game-Knights-Variation-2...b6-3.Bf4-Bb7-4.e3",
          "d2d4 g8f6/https://www.chess.com/openings/Indian-Game...3.Nc3-Bg7-4.e4-d6-5.Qd2",
          "d2d4 g8f6/https://www.chess.com/openings/Indian-Game...3.e3-d5-4.Nf3-Bd6-5.Bd3",
          "d2d4 g8f6/https://www.chess.com/openings/Indian-Game...3.e3-d5-4.Nf3-Be7-5.Bd3",
          "d2d4 g8f6/https://www.chess.com/openings/London-System-3...Bf5-4.e3-e6-5.Bd3",
          "d2d4 g8f6/https://www.chess.com/openings/London-System-3...c5-4.c3-e6-5.e3",
          "d2d4 g8f6/https://www.chess.com/openings/London-System-3...c5-4.e3-Nc6",
          "d2d4 g8f6/https://www.chess.com/openings/London-System-3...c5-4.e3-Nc6-5.Be2",
          "d2d4 g8f6/https://www.chess.com/openings/London-System-3...c5-4.e3-e6",
          "d2d4 g8f6/https://www.chess.com/openings/London-System-3...c6-4.e3",
          "d2d4 g8f6/https://www.chess.com/openings/London-System-3...g6-4.e3",
          "d2d4 g8f6/https://www.chess.com/openings/London-System-3...g6-4.e3-Bg7",
          "d2d4 g8f6/https://www.chess.com/openings/London-System...4.e3-e6-5.Bd3-Bxd3-6.Qxd3",
          "d2d4 g8f6/https://www.chess.com/openings/Modern-Defense-with-1-d4...3.Bf4-d6-4.e3-Nf6",
          "d2d4 g8f6/https://www.chess.com/openings/Queens-Pawn-Opening-Accelerated-London-System-2...Nf6-3.e3",
          "d2d4 g8f6/https://www.chess.com/openings/Queens-Pawn-Opening-Accelerated-London-System-2...Nf6-3.e3-Bf5",
          "d2d4 g8f6/https://www.chess.com/openings/Queens-Pawn-Opening-Accelerated-London-System...3.e3-c5-4.dxc5-Nc6",
          "d2d4 g8f6/https://www.chess.com/openings/Queens-Pawn-Opening-Krause-Variation...4.Bf4-Nc6-5.e3-Nf6",
          "d2d4 g8f6/https://www.chess.com/openings/Queens-Pawn-Opening-Krause-Variation...4.Bf4-Nc6-5.e3-Nf6-6.Bd3",
          "d2d4 g8f6/https://www.chess.com/openings/Queens-Pawn-Opening-Zukertort-Chigorin-Variation-3.Bf4-Nf6-4.e3",
          "d2d4 h7h5/https://www.chess.com/openings/Queens-Pawn-Opening",
          "d2d4 h7h6/https://www.chess.com/openings/Queens-Pawn-Opening",
          "d2d3 d7d5",
          "d2d3 e7e5",
          "d2d4 a7a6",
          "d2d4 b7b5",
          "d2d4 b7b6",
          "d2d4 b8c6",
          "d2d4 c7c5",
          "d2d4 c7c6",
          "d2d4 d7d5",
          "d2d4 d7d6",
          "d2d4 e7e5",
          "d2d4 e7e6",
          "d2d4 f7f5",
          "d2d4 f7f6",
          "d2d4 g7g5",
          "d2d4 g7g6",
          "d2d4 g8f6",
          "d2d4 h7h5",
          "d2d4 h7h6"
         ],
         "labels": [
          "https://www.chess.com/openings/Mieses-Opening-1...d5",
          "https://www.chess.com/openings/Kings-Pawn-Opening-Leonardis-Variation",
          "https://www.chess.com/openings/Queens-Pawn-Opening-St-George-Defense",
          "https://www.chess.com/openings/Queens-Pawn-Opening-Polish-Defense",
          "https://www.chess.com/openings/English-Defense",
          "https://www.chess.com/openings/Indian-Game-Knights-Variation-2...b6-3.Bf4-Bb7-4.e3",
          "https://www.chess.com/openings/Indian-Game-London-System-3...b6-4.e3",
          "https://www.chess.com/openings/Indian-Game-London-System-3...b6-4.e3-Bb7-5.Bd3",
          "https://www.chess.com/openings/Indian-Game-London-System...4.e3-Bb7-5.Bd3-Be7",
          "https://www.chess.com/openings/Englund-Gambit-2.dxe5-Nc6-3.Nf3",
          "https://www.chess.com/openings/Queens-Pawn-Opening-Mikenas-Defense",
          "https://www.chess.com/openings/Queens-Pawn-Opening-Mikenas-Defense-2.Nf3",
          "https://www.chess.com/openings/Queens-Pawn-Opening-Zukertort-Chigorin-Variation-3.Bf4-Bg4-4.e3",
          "https://www.chess.com/openings/Queens-Pawn-Opening-Zukertort-Chigorin-Variation-3.Bf4-Nf6-4.e3",
          "https://www.chess.com/openings/Old-Benoni-Defense",
          "https://www.chess.com/openings/Old-Benoni-Defense-2.c3",
          "https://www.chess.com/openings/Old-Benoni-Defense-2.dxc5",
          "https://www.chess.com/openings/Old-Benoni-Defense-2.dxc5-e6",
          "https://www.chess.com/openings/Old-Benoni-Defense-Cormorant-Gambit",
          "https://www.chess.com/openings/Old-Benoni-Defense-Schlenker-Defense",
          "https://www.chess.com/openings/Reti-Opening-Sicilian-Invitation-2.d4-cxd4-3.Nxd4",
          "https://www.chess.com/openings/London-System-3...c6-4.e3",
          "https://www.chess.com/openings/London-System-3...c6-4.e3-Bf5-5.Bd3",
          "https://www.chess.com/openings/London-System-3...c6-4.e3-Bg4",
          "https://www.chess.com/openings/Queens-Pawn-Opening-1...c6",
          "https://www.chess.com/openings/Queens-Pawn-Opening-Accelerated-London-System-2...c6-3.e3",
          "https://www.chess.com/openings/Queens-Pawn-Opening-Accelerated-London-System-2...c6-3.e3-Bf5",
          "https://www.chess.com/openings/Queens-Pawn-Opening-Zukertort-Variation-2...c6-3.Bf4-Bf5-4.e3",
          "https://www.chess.com/openings/Queens-Pawn-Opening-Zukertort-Variation...3.Bf4-Bf5-4.e3-e6",
          "https://www.chess.com/openings/Caro-Kann-Defense-Exchange-Rubinstein-Variation-6...e6-7.Nf3",
          "https://www.chess.com/openings/Caro-Kann-Defense-Exchange-Variation...4.Bf4-Nc6-5.c3-Bf5",
          "https://www.chess.com/openings/Caro-Kann-Defense-Exchange-Variation...4.Bf4-Nc6-5.c3-Bf5-6.Nf3",
          "https://www.chess.com/openings/Indian-Game-2.Bf4-e6-3.e3-d5-4.Bd3",
          "https://www.chess.com/openings/Indian-Game-2.Bf4-e6-3.e3-d5-4.Nf3",
          "https://www.chess.com/openings/Indian-Game-2.Bf4-e6-3.e3-d5-4.c3",
          "https://www.chess.com/openings/Indian-Game-2.c3-d5-3.Bf4",
          "https://www.chess.com/openings/Indian-Game...3.e3-d5-4.Nf3-Bd6",
          "https://www.chess.com/openings/Indian-Game...3.e3-d5-4.Nf3-Bd6-5.Bd3",
          "https://www.chess.com/openings/Indian-Game...3.e3-d5-4.Nf3-Bd6-5.Bxd6",
          "https://www.chess.com/openings/Indian-Game...3.e3-d5-4.Nf3-Bd6-5.Ne5",
          "https://www.chess.com/openings/Indian-Game...3.e3-d5-4.Nf3-Be7",
          "https://www.chess.com/openings/Indian-Game...3.e3-d5-4.Nf3-Be7-5.Bd3",
          "https://www.chess.com/openings/Indian-Game...4.Nf3-Bd6-5.Bxd6-Qxd6",
          "https://www.chess.com/openings/Indian-Game...4.Nf3-Bd6-5.Ne5-O-O",
          "https://www.chess.com/openings/London-System",
          "https://www.chess.com/openings/London-System-3...Bf5-4.e3",
          "https://www.chess.com/openings/London-System-3...Bf5-4.e3-e6",
          "https://www.chess.com/openings/London-System-3...Bf5-4.e3-e6-5.Bd3",
          "https://www.chess.com/openings/London-System-3...c5-4.c3-Nc6-5.e3",
          "https://www.chess.com/openings/London-System-3...c5-4.c3-e6-5.e3",
          "https://www.chess.com/openings/London-System-3...c5-4.e3",
          "https://www.chess.com/openings/London-System-3...c5-4.e3-Nc6",
          "https://www.chess.com/openings/London-System-3...c5-4.e3-cxd4-5.exd4",
          "https://www.chess.com/openings/London-System-3...c5-4.e3-e6",
          "https://www.chess.com/openings/London-System-3...c6-4.e3",
          "https://www.chess.com/openings/London-System-3...c6-4.e3-Bf5-5.Bd3",
          "https://www.chess.com/openings/London-System-3...g6-4.e3-Bg7",
          "https://www.chess.com/openings/London-System...4.c3-Nc6-5.e3-Qb6-6.Qc2",
          "https://www.chess.com/openings/London-System...4.e3-cxd4-5.exd4-Nc6-6.c3",
          "https://www.chess.com/openings/London-System...4.e3-e6-5.Bd3-Bxd3-6.Qxd3",
          "https://www.chess.com/openings/Queens-Pawn-Opening-1...d5",
          "https://www.chess.com/openings/Queens-Pawn-Opening-Accelerated-London-Steinitz-Countergambit",
          "https://www.chess.com/openings/Queens-Pawn-Opening-Accelerated-London-Steinitz-Countergambit-3.e3",
          "https://www.chess.com/openings/Queens-Pawn-Opening-Accelerated-London-Steinitz-Countergambit-3.e3-Nc6-4.Nf3",
          "https://www.chess.com/openings/Queens-Pawn-Opening-Accelerated-London-Steinitz-Countergambit-3.e3-cxd4",
          "https://www.chess.com/openings/Queens-Pawn-Opening-Accelerated-London-Steinitz-Countergambit-3.e3-cxd4-4.exd4-Nc6",
          "https://www.chess.com/openings/Queens-Pawn-Opening-Accelerated-London-System",
          "https://www.chess.com/openings/Queens-Pawn-Opening-Accelerated-London-System-2...Bf5-3.e3",
          "https://www.chess.com/openings/Queens-Pawn-Opening-Accelerated-London-System-2...Bf5-3.e3-e6",
          "https://www.chess.com/openings/Queens-Pawn-Opening-Accelerated-London-System-2...Nf6-3.e3",
          "https://www.chess.com/openings/Queens-Pawn-Opening-Accelerated-London-System-2...Nf6-3.e3-Bf5",
          "https://www.chess.com/openings/Queens-Pawn-Opening-Accelerated-London-System-2...Nf6-3.e3-Bg4",
          "https://www.chess.com/openings/Queens-Pawn-Opening-Accelerated-London-System-2...Nf6-3.e3-c5-4.c3",
          "https://www.chess.com/openings/Queens-Pawn-Opening-Accelerated-London-System-2...c6-3.e3",
          "https://www.chess.com/openings/Queens-Pawn-Opening-Accelerated-London-System-2...c6-3.e3-Bf5",
          "https://www.chess.com/openings/Queens-Pawn-Opening-Accelerated-London-System-2...e6-3.e3",
          "https://www.chess.com/openings/Queens-Pawn-Opening-Accelerated-London-System-2...e6-3.e3-Bd6",
          "https://www.chess.com/openings/Queens-Pawn-Opening-Accelerated-London-System-2...e6-3.e3-c5",
          "https://www.chess.com/openings/Queens-Pawn-Opening-Accelerated-London-System-2...e6-3.e3-c5-4.c3",
          "https://www.chess.com/openings/Queens-Pawn-Opening-Accelerated-London-System...3.e3-c5-4.c3-Qb6",
          "https://www.chess.com/openings/Queens-Pawn-Opening-Chigorin-Variation-2...e6-3.Bf4",
          "https://www.chess.com/openings/Queens-Pawn-Opening-Krause-Variation...4.Bf4-Nc6-5.e3-Nf6",
          "https://www.chess.com/openings/Queens-Pawn-Opening-Zukertort-Chigorin-Variation-3.Bf4",
          "https://www.chess.com/openings/Queens-Pawn-Opening-Zukertort-Chigorin-Variation-3.Bf4-Bf5-4.e3",
          "https://www.chess.com/openings/Queens-Pawn-Opening-Zukertort-Chigorin-Variation-3.Bf4-Bf5-4.e3-e6",
          "https://www.chess.com/openings/Queens-Pawn-Opening-Zukertort-Chigorin-Variation-3.Bf4-Nf6-4.e3",
          "https://www.chess.com/openings/Queens-Pawn-Opening-Zukertort-Variation-2...Bf5-3.Bf4",
          "https://www.chess.com/openings/Queens-Pawn-Opening-Zukertort-Variation-2...Bf5-3.Bf4-e6-4.e3",
          "https://www.chess.com/openings/Queens-Pawn-Opening-Zukertort-Variation-2...c6-3.Bf4-Bf5-4.e3",
          "https://www.chess.com/openings/Queens-Pawn-Opening-Zukertort-Variation-2...e6-3.Bf4",
          "https://www.chess.com/openings/Queens-Pawn-Opening-Zukertort-Variation-2...e6-3.Bf4-c5-4.e3",
          "https://www.chess.com/openings/Queens-Pawn-Opening-Zukertort-Variation...3.Bf4-Bf5-4.e3-e6",
          "https://www.chess.com/openings/Queens-Pawn-Opening-Zukertort-Variation...3.Bf4-e6-4.e3-Bd6",
          "https://www.chess.com/openings/Indian-Game-2.Bf4-d6-3.Nc3",
          "https://www.chess.com/openings/Indian-Game-2.Bf4-d6-3.e3",
          "https://www.chess.com/openings/Indian-Game...3.Nc3-Bg7-4.e4-d6-5.Qd2",
          "https://www.chess.com/openings/Modern-Defense-with-1-d4-2.Nf3-Bg7-3.Bf4-d6-4.e3",
          "https://www.chess.com/openings/Modern-Defense-with-1-d4...3.Bf4-d6-4.e3-Nf6",
          "https://www.chess.com/openings/Queens-Pawn-Opening-1...d6",
          "https://www.chess.com/openings/Queens-Pawn-Opening-1...d6-2.Bf4",
          "https://www.chess.com/openings/Englund-Gambit",
          "https://www.chess.com/openings/Englund-Gambit-2.dxe5",
          "https://www.chess.com/openings/Englund-Gambit-2.dxe5-Nc6",
          "https://www.chess.com/openings/Englund-Gambit-2.dxe5-Nc6-3.Nf3",
          "https://www.chess.com/openings/Englund-Gambit-2.dxe5-Nc6-3.Nf3-Qe7",
          "https://www.chess.com/openings/Englund-Gambit-Mosquito-Gambit",
          "https://www.chess.com/openings/Indian-Game-2.Bf4-e6-3.e3",
          "https://www.chess.com/openings/Indian-Game-2.Bf4-e6-3.e3-d5-4.Nf3",
          "https://www.chess.com/openings/Indian-Game-London-System",
          "https://www.chess.com/openings/Indian-Game-London-System-3...c5-4.e3",
          "https://www.chess.com/openings/Indian-Game-London-System-3...c5-4.e3-Nc6-5.c3",
          "https://www.chess.com/openings/Indian-Game...3.e3-d5-4.Nf3-Bd6-5.Bd3",
          "https://www.chess.com/openings/Indian-Game...3.e3-d5-4.Nf3-Be7-5.Bd3",
          "https://www.chess.com/openings/London-System-3...c5-4.e3-e6",
          "https://www.chess.com/openings/Queens-Pawn-Opening-Accelerated-London-System-2...e6-3.e3",
          "https://www.chess.com/openings/Queens-Pawn-Opening-Accelerated-London-System-2...e6-3.e3-Bd6",
          "https://www.chess.com/openings/Queens-Pawn-Opening-Accelerated-London-System-2...e6-3.e3-c5",
          "https://www.chess.com/openings/Queens-Pawn-Opening-Accelerated-London-System-2...e6-3.e3-c5-4.c3",
          "https://www.chess.com/openings/Queens-Pawn-Opening-Accelerated-London-System...3.e3-c5-4.c3-Nc6",
          "https://www.chess.com/openings/Queens-Pawn-Opening-Horwitz-Defense-2.Bf4",
          "https://www.chess.com/openings/Queens-Pawn-Opening-Horwitz-Defense-2.Bf4-c5",
          "https://www.chess.com/openings/Queens-Pawn-Opening-Horwitz-Defense...3.Bf4-Nf6-4.e3-b6",
          "https://www.chess.com/openings/Queens-Pawn-Opening-Krause-Variation-3.c3-e6-4.Bf4-Nc6-5.e3",
          "https://www.chess.com/openings/Queens-Pawn-Opening-Krause-Variation...4.Bf4-Nc6-5.e3-Bd6",
          "https://www.chess.com/openings/Queens-Pawn-Opening-Krause-Variation...4.Bf4-Nc6-5.e3-Nf6",
          "https://www.chess.com/openings/Queens-Pawn-Opening-Zukertort-Variation-2...e6-3.Bf4",
          "https://www.chess.com/openings/Queens-Pawn-Opening-Zukertort-Variation-2...e6-3.Bf4-c5-4.e3",
          "https://www.chess.com/openings/Dutch-Defense-2.Bf4",
          "https://www.chess.com/openings/Dutch-Defense-2.Bf4-Nf6-3.e3",
          "https://www.chess.com/openings/Dutch-Defense-2.Nf3-Nf6-3.Bf4-g6-4.e3",
          "https://www.chess.com/openings/Dutch-Defense...3.Bf4-g6-4.e3-Bg7",
          "https://www.chess.com/openings/Queens-Pawn-Opening-Horwitz-Defense...3.Bf4-Nf6-4.e3-Be7",
          "https://www.chess.com/openings/Queens-Pawn-Opening-Horwitz-Defense...3.Bf4-Nf6-4.e3-b6",
          "https://www.chess.com/openings/Queens-Pawn-Opening",
          "https://www.chess.com/openings/Queens-Pawn-Opening",
          "https://www.chess.com/openings/Indian-Game-East-Indian-London-System-3...Bg7-4.c3-O-O-5.e3",
          "https://www.chess.com/openings/Indian-Game-East-Indian-London-System-3...Bg7-4.e3-O-O",
          "https://www.chess.com/openings/Indian-Game-East-Indian-London-System...4.e3-O-O-5.c3-d6",
          "https://www.chess.com/openings/Indian-Game...3.Nc3-Bg7-4.e4-d6-5.Qd2",
          "https://www.chess.com/openings/Modern-Defense-with-1-d4-2.Bf4",
          "https://www.chess.com/openings/Modern-Defense-with-1-d4-2.Bf4-Bg7",
          "https://www.chess.com/openings/Modern-Defense-with-1-d4-2.Bf4-Bg7-3.e3",
          "https://www.chess.com/openings/Modern-Defense-with-1-d4-2.Nf3",
          "https://www.chess.com/openings/Modern-Defense-with-1-d4-2.Nf3-Bg7-3.Bf4-d6-4.e3",
          "https://www.chess.com/openings/Modern-Defense-with-1-d4...3.Bf4-d6-4.e3-Nd7",
          "https://www.chess.com/openings/Modern-Defense-with-1-d4...3.Bf4-d6-4.e3-Nf6",
          "https://www.chess.com/openings/Queens-Pawn-Opening-1...d6-2.Bf4-g6",
          "https://www.chess.com/openings/Indian-Game-2.Bf4",
          "https://www.chess.com/openings/Indian-Game-2.Bf4-c5",
          "https://www.chess.com/openings/Indian-Game-2.Bf4-c5-3.e3",
          "https://www.chess.com/openings/Indian-Game-2.Bf4-c5-3.e3-Qb6",
          "https://www.chess.com/openings/Indian-Game-2.Bf4-d6-3.Nf3",
          "https://www.chess.com/openings/Indian-Game-2.Bf4-d6-3.e3",
          "https://www.chess.com/openings/Indian-Game-2.Bf4-e6-3.e3",
          "https://www.chess.com/openings/Indian-Game-2.Bf4-e6-3.e3-d5-4.Nf3",
          "https://www.chess.com/openings/Indian-Game-2.Bf4-g6-3.Nc3-Bg7-4.e4",
          "https://www.chess.com/openings/Indian-Game-2.Bf4-g6-3.e3",
          "https://www.chess.com/openings/Indian-Game-East-Indian-London-System-3...Bg7-4.e3",
          "https://www.chess.com/openings/Indian-Game-East-Indian-London-System-3...Bg7-4.e3-O-O",
          "https://www.chess.com/openings/Indian-Game-East-Indian-London-System-3...Bg7-4.e3-c5-5.c3",
          "https://www.chess.com/openings/Indian-Game-East-Indian-London-System-3...d6-4.e3",
          "https://www.chess.com/openings/Indian-Game-Knights-Variation-2...b6-3.Bf4-Bb7-4.e3",
          "https://www.chess.com/openings/Indian-Game...3.Nc3-Bg7-4.e4-d6-5.Qd2",
          "https://www.chess.com/openings/Indian-Game...3.e3-d5-4.Nf3-Bd6-5.Bd3",
          "https://www.chess.com/openings/Indian-Game...3.e3-d5-4.Nf3-Be7-5.Bd3",
          "https://www.chess.com/openings/London-System-3...Bf5-4.e3-e6-5.Bd3",
          "https://www.chess.com/openings/London-System-3...c5-4.c3-e6-5.e3",
          "https://www.chess.com/openings/London-System-3...c5-4.e3-Nc6",
          "https://www.chess.com/openings/London-System-3...c5-4.e3-Nc6-5.Be2",
          "https://www.chess.com/openings/London-System-3...c5-4.e3-e6",
          "https://www.chess.com/openings/London-System-3...c6-4.e3",
          "https://www.chess.com/openings/London-System-3...g6-4.e3",
          "https://www.chess.com/openings/London-System-3...g6-4.e3-Bg7",
          "https://www.chess.com/openings/London-System...4.e3-e6-5.Bd3-Bxd3-6.Qxd3",
          "https://www.chess.com/openings/Modern-Defense-with-1-d4...3.Bf4-d6-4.e3-Nf6",
          "https://www.chess.com/openings/Queens-Pawn-Opening-Accelerated-London-System-2...Nf6-3.e3",
          "https://www.chess.com/openings/Queens-Pawn-Opening-Accelerated-London-System-2...Nf6-3.e3-Bf5",
          "https://www.chess.com/openings/Queens-Pawn-Opening-Accelerated-London-System...3.e3-c5-4.dxc5-Nc6",
          "https://www.chess.com/openings/Queens-Pawn-Opening-Krause-Variation...4.Bf4-Nc6-5.e3-Nf6",
          "https://www.chess.com/openings/Queens-Pawn-Opening-Krause-Variation...4.Bf4-Nc6-5.e3-Nf6-6.Bd3",
          "https://www.chess.com/openings/Queens-Pawn-Opening-Zukertort-Chigorin-Variation-3.Bf4-Nf6-4.e3",
          "https://www.chess.com/openings/Queens-Pawn-Opening",
          "https://www.chess.com/openings/Queens-Pawn-Opening",
          "d2d3 d7d5",
          "d2d3 e7e5",
          "d2d4 a7a6",
          "d2d4 b7b5",
          "d2d4 b7b6",
          "d2d4 b8c6",
          "d2d4 c7c5",
          "d2d4 c7c6",
          "d2d4 d7d5",
          "d2d4 d7d6",
          "d2d4 e7e5",
          "d2d4 e7e6",
          "d2d4 f7f5",
          "d2d4 f7f6",
          "d2d4 g7g5",
          "d2d4 g7g6",
          "d2d4 g8f6",
          "d2d4 h7h5",
          "d2d4 h7h6"
         ],
         "marker": {
          "coloraxis": "coloraxis",
          "colors": {
           "bdata": "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",
           "dtype": "f8"
          }
         },
         "name": "",
         "parents": [
          "d2d3 d7d5",
          "d2d3 e7e5",
          "d2d4 a7a6",
          "d2d4 b7b5",
          "d2d4 b7b6",
          "d2d4 b7b6",
          "d2d4 b7b6",
          "d2d4 b7b6",
          "d2d4 b7b6",
          "d2d4 b8c6",
          "d2d4 b8c6",
          "d2d4 b8c6",
          "d2d4 b8c6",
          "d2d4 b8c6",
          "d2d4 c7c5",
          "d2d4 c7c5",
          "d2d4 c7c5",
          "d2d4 c7c5",
          "d2d4 c7c5",
          "d2d4 c7c5",
          "d2d4 c7c5",
          "d2d4 c7c6",
          "d2d4 c7c6",
          "d2d4 c7c6",
          "d2d4 c7c6",
          "d2d4 c7c6",
          "d2d4 c7c6",
          "d2d4 c7c6",
          "d2d4 c7c6",
          "d2d4 d7d5",
          "d2d4 d7d5",
          "d2d4 d7d5",
          "d2d4 d7d5",
          "d2d4 d7d5",
          "d2d4 d7d5",
          "d2d4 d7d5",
          "d2d4 d7d5",
          "d2d4 d7d5",
          "d2d4 d7d5",
          "d2d4 d7d5",
          "d2d4 d7d5",
          "d2d4 d7d5",
          "d2d4 d7d5",
          "d2d4 d7d5",
          "d2d4 d7d5",
          "d2d4 d7d5",
          "d2d4 d7d5",
          "d2d4 d7d5",
          "d2d4 d7d5",
          "d2d4 d7d5",
          "d2d4 d7d5",
          "d2d4 d7d5",
          "d2d4 d7d5",
          "d2d4 d7d5",
          "d2d4 d7d5",
          "d2d4 d7d5",
          "d2d4 d7d5",
          "d2d4 d7d5",
          "d2d4 d7d5",
          "d2d4 d7d5",
          "d2d4 d7d5",
          "d2d4 d7d5",
          "d2d4 d7d5",
          "d2d4 d7d5",
          "d2d4 d7d5",
          "d2d4 d7d5",
          "d2d4 d7d5",
          "d2d4 d7d5",
          "d2d4 d7d5",
          "d2d4 d7d5",
          "d2d4 d7d5",
          "d2d4 d7d5",
          "d2d4 d7d5",
          "d2d4 d7d5",
          "d2d4 d7d5",
          "d2d4 d7d5",
          "d2d4 d7d5",
          "d2d4 d7d5",
          "d2d4 d7d5",
          "d2d4 d7d5",
          "d2d4 d7d5",
          "d2d4 d7d5",
          "d2d4 d7d5",
          "d2d4 d7d5",
          "d2d4 d7d5",
          "d2d4 d7d5",
          "d2d4 d7d5",
          "d2d4 d7d5",
          "d2d4 d7d5",
          "d2d4 d7d5",
          "d2d4 d7d5",
          "d2d4 d7d5",
          "d2d4 d7d5",
          "d2d4 d7d6",
          "d2d4 d7d6",
          "d2d4 d7d6",
          "d2d4 d7d6",
          "d2d4 d7d6",
          "d2d4 d7d6",
          "d2d4 d7d6",
          "d2d4 e7e5",
          "d2d4 e7e5",
          "d2d4 e7e5",
          "d2d4 e7e5",
          "d2d4 e7e5",
          "d2d4 e7e5",
          "d2d4 e7e6",
          "d2d4 e7e6",
          "d2d4 e7e6",
          "d2d4 e7e6",
          "d2d4 e7e6",
          "d2d4 e7e6",
          "d2d4 e7e6",
          "d2d4 e7e6",
          "d2d4 e7e6",
          "d2d4 e7e6",
          "d2d4 e7e6",
          "d2d4 e7e6",
          "d2d4 e7e6",
          "d2d4 e7e6",
          "d2d4 e7e6",
          "d2d4 e7e6",
          "d2d4 e7e6",
          "d2d4 e7e6",
          "d2d4 e7e6",
          "d2d4 e7e6",
          "d2d4 e7e6",
          "d2d4 f7f5",
          "d2d4 f7f5",
          "d2d4 f7f5",
          "d2d4 f7f5",
          "d2d4 f7f5",
          "d2d4 f7f5",
          "d2d4 f7f6",
          "d2d4 g7g5",
          "d2d4 g7g6",
          "d2d4 g7g6",
          "d2d4 g7g6",
          "d2d4 g7g6",
          "d2d4 g7g6",
          "d2d4 g7g6",
          "d2d4 g7g6",
          "d2d4 g7g6",
          "d2d4 g7g6",
          "d2d4 g7g6",
          "d2d4 g7g6",
          "d2d4 g7g6",
          "d2d4 g8f6",
          "d2d4 g8f6",
          "d2d4 g8f6",
          "d2d4 g8f6",
          "d2d4 g8f6",
          "d2d4 g8f6",
          "d2d4 g8f6",
          "d2d4 g8f6",
          "d2d4 g8f6",
          "d2d4 g8f6",
          "d2d4 g8f6",
          "d2d4 g8f6",
          "d2d4 g8f6",
          "d2d4 g8f6",
          "d2d4 g8f6",
          "d2d4 g8f6",
          "d2d4 g8f6",
          "d2d4 g8f6",
          "d2d4 g8f6",
          "d2d4 g8f6",
          "d2d4 g8f6",
          "d2d4 g8f6",
          "d2d4 g8f6",
          "d2d4 g8f6",
          "d2d4 g8f6",
          "d2d4 g8f6",
          "d2d4 g8f6",
          "d2d4 g8f6",
          "d2d4 g8f6",
          "d2d4 g8f6",
          "d2d4 g8f6",
          "d2d4 g8f6",
          "d2d4 g8f6",
          "d2d4 g8f6",
          "d2d4 h7h5",
          "d2d4 h7h6",
          "",
          "",
          "",
          "",
          "",
          "",
          "",
          "",
          "",
          "",
          "",
          "",
          "",
          "",
          "",
          "",
          "",
          "",
          ""
         ],
         "type": "sunburst",
         "values": {
          "bdata": "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",
          "dtype": "f8"
         }
        }
       ],
       "layout": {
        "coloraxis": {
         "cmax": 1,
         "cmid": 0.5,
         "cmin": 0,
         "colorbar": {
          "title": {
           "text": "winrate"
          }
         },
         "colorscale": [
          [
           0,
           "rgb(165,0,38)"
          ],
          [
           0.1,
           "rgb(215,48,39)"
          ],
          [
           0.2,
           "rgb(244,109,67)"
          ],
          [
           0.3,
           "rgb(253,174,97)"
          ],
          [
           0.4,
           "rgb(254,224,139)"
          ],
          [
           0.5,
           "rgb(255,255,191)"
          ],
          [
           0.6,
           "rgb(217,239,139)"
          ],
          [
           0.7,
           "rgb(166,217,106)"
          ],
          [
           0.8,
           "rgb(102,189,99)"
          ],
          [
           0.9,
           "rgb(26,152,80)"
          ],
          [
           1,
           "rgb(0,104,55)"
          ]
         ]
        },
        "height": 1000,
        "legend": {
         "tracegroupgap": 0
        },
        "template": {
         "data": {
          "candlestick": [
           {
            "decreasing": {
             "line": {
              "color": "#000033"
             }
            },
            "increasing": {
             "line": {
              "color": "#000032"
             }
            },
            "type": "candlestick"
           }
          ],
          "contour": [
           {
            "colorscale": [
             [
              0,
              "#000011"
             ],
             [
              0.1111111111111111,
              "#000012"
             ],
             [
              0.2222222222222222,
              "#000013"
             ],
             [
              0.3333333333333333,
              "#000014"
             ],
             [
              0.4444444444444444,
              "#000015"
             ],
             [
              0.5555555555555556,
              "#000016"
             ],
             [
              0.6666666666666666,
              "#000017"
             ],
             [
              0.7777777777777778,
              "#000018"
             ],
             [
              0.8888888888888888,
              "#000019"
             ],
             [
              1,
              "#000020"
             ]
            ],
            "type": "contour"
           }
          ],
          "contourcarpet": [
           {
            "colorscale": [
             [
              0,
              "#000011"
             ],
             [
              0.1111111111111111,
              "#000012"
             ],
             [
              0.2222222222222222,
              "#000013"
             ],
             [
              0.3333333333333333,
              "#000014"
             ],
             [
              0.4444444444444444,
              "#000015"
             ],
             [
              0.5555555555555556,
              "#000016"
             ],
             [
              0.6666666666666666,
              "#000017"
             ],
             [
              0.7777777777777778,
              "#000018"
             ],
             [
              0.8888888888888888,
              "#000019"
             ],
             [
              1,
              "#000020"
             ]
            ],
            "type": "contourcarpet"
           }
          ],
          "heatmap": [
           {
            "colorscale": [
             [
              0,
              "#000011"
             ],
             [
              0.1111111111111111,
              "#000012"
             ],
             [
              0.2222222222222222,
              "#000013"
             ],
             [
              0.3333333333333333,
              "#000014"
             ],
             [
              0.4444444444444444,
              "#000015"
             ],
             [
              0.5555555555555556,
              "#000016"
             ],
             [
              0.6666666666666666,
              "#000017"
             ],
             [
              0.7777777777777778,
              "#000018"
             ],
             [
              0.8888888888888888,
              "#000019"
             ],
             [
              1,
              "#000020"
             ]
            ],
            "type": "heatmap"
           }
          ],
          "histogram2d": [
           {
            "colorscale": [
             [
              0,
              "#000011"
             ],
             [
              0.1111111111111111,
              "#000012"
             ],
             [
              0.2222222222222222,
              "#000013"
             ],
             [
              0.3333333333333333,
              "#000014"
             ],
             [
              0.4444444444444444,
              "#000015"
             ],
             [
              0.5555555555555556,
              "#000016"
             ],
             [
              0.6666666666666666,
              "#000017"
             ],
             [
              0.7777777777777778,
              "#000018"
             ],
             [
              0.8888888888888888,
              "#000019"
             ],
             [
              1,
              "#000020"
             ]
            ],
            "type": "histogram2d"
           }
          ],
          "icicle": [
           {
            "textfont": {
             "color": "white"
            },
            "type": "icicle"
           }
          ],
          "sankey": [
           {
            "textfont": {
             "color": "#000036"
            },
            "type": "sankey"
           }
          ],
          "scatter": [
           {
            "marker": {
             "line": {
              "width": 0
             }
            },
            "type": "scatter"
           }
          ],
          "table": [
           {
            "cells": {
             "fill": {
              "color": "#000038"
             },
             "font": {
              "color": "#000037"
             },
             "line": {
              "color": "#000039"
             }
            },
            "header": {
             "fill": {
              "color": "#000040"
             },
             "font": {
              "color": "#000036"
             },
             "line": {
              "color": "#000039"
             }
            },
            "type": "table"
           }
          ],
          "waterfall": [
           {
            "connector": {
             "line": {
              "color": "#000036",
              "width": 2
             }
            },
            "decreasing": {
             "marker": {
              "color": "#000033"
             }
            },
            "increasing": {
             "marker": {
              "color": "#000032"
             }
            },
            "totals": {
             "marker": {
              "color": "#000034"
             }
            },
            "type": "waterfall"
           }
          ]
         },
         "layout": {
          "coloraxis": {
           "colorscale": [
            [
             0,
             "#000011"
            ],
            [
             0.1111111111111111,
             "#000012"
            ],
            [
             0.2222222222222222,
             "#000013"
            ],
            [
             0.3333333333333333,
             "#000014"
            ],
            [
             0.4444444444444444,
             "#000015"
            ],
            [
             0.5555555555555556,
             "#000016"
            ],
            [
             0.6666666666666666,
             "#000017"
            ],
            [
             0.7777777777777778,
             "#000018"
            ],
            [
             0.8888888888888888,
             "#000019"
            ],
            [
             1,
             "#000020"
            ]
           ]
          },
          "colorscale": {
           "diverging": [
            [
             0,
             "#000021"
            ],
            [
             0.1,
             "#000022"
            ],
            [
             0.2,
             "#000023"
            ],
            [
             0.3,
             "#000024"
            ],
            [
             0.4,
             "#000025"
            ],
            [
             0.5,
             "#000026"
            ],
            [
             0.6,
             "#000027"
            ],
            [
             0.7,
             "#000028"
            ],
            [
             0.8,
             "#000029"
            ],
            [
             0.9,
             "#000030"
            ],
            [
             1,
             "#000031"
            ]
           ],
           "sequential": [
            [
             0,
             "#000011"
            ],
            [
             0.1111111111111111,
             "#000012"
            ],
            [
             0.2222222222222222,
             "#000013"
            ],
            [
             0.3333333333333333,
             "#000014"
            ],
            [
             0.4444444444444444,
             "#000015"
            ],
            [
             0.5555555555555556,
             "#000016"
            ],
            [
             0.6666666666666666,
             "#000017"
            ],
            [
             0.7777777777777778,
             "#000018"
            ],
            [
             0.8888888888888888,
             "#000019"
            ],
            [
             1,
             "#000020"
            ]
           ],
           "sequentialminus": [
            [
             0,
             "#000011"
            ],
            [
             0.1111111111111111,
             "#000012"
            ],
            [
             0.2222222222222222,
             "#000013"
            ],
            [
             0.3333333333333333,
             "#000014"
            ],
            [
             0.4444444444444444,
             "#000015"
            ],
            [
             0.5555555555555556,
             "#000016"
            ],
            [
             0.6666666666666666,
             "#000017"
            ],
            [
             0.7777777777777778,
             "#000018"
            ],
            [
             0.8888888888888888,
             "#000019"
            ],
            [
             1,
             "#000020"
            ]
           ]
          },
          "colorway": [
           "#000001",
           "#000002",
           "#000003",
           "#000004",
           "#000005",
           "#000006",
           "#000007",
           "#000008",
           "#000009",
           "#000010"
          ]
         }
        },
        "title": {
         "text": "Opening Move Analysis - Winrate by Path"
        },
        "width": 1000
       }
      }
     },
     "metadata": {},
     "output_type": "display_data"
    }
   ],
   "source": [
    "import pandas as pd\n",
    "import plotly.express as px\n",
    "import plotly.graph_objects as go\n",
    "import numpy as np\n",
    "from pathlib import Path\n",
    "from config import get_plot_config, get_section_config\n",
    "from data_processing import get_raw_data, get_players_aggregates, get_player_metric_values, get_summary_kpis, calculate_win_loss_draw\n",
    "\n",
    "import streamlit as st\n",
    "st.cache_data.clear()\n",
    "raw_data = get_raw_data()\n",
    "\n",
    "df = (\n",
    "    raw_data.groupby(\n",
    "        [\"opener_2_moves\", \"eco\"], # \"opener_4_moves\", \"opener_6_moves\"] #, \"opener_8_moves\"]\n",
    "    )\n",
    "    .agg(\n",
    "        total_games=(\"playing_result\", \"count\"),\n",
    "        wins=(\"playing_result\", lambda x: (x == \"Win\").sum())\n",
    "    )\n",
    "    .reset_index()\n",
    ")\n",
    "\n",
    "# Compute winrate\n",
    "df = df[df['total_games'] > 0]\n",
    "df[\"winrate\"] = df[\"wins\"] / df[\"total_games\"]\n",
    "\n",
    "# Sunburst chart\n",
    "fig = px.sunburst(\n",
    "    df,\n",
    "    path=[\"opener_2_moves\", \"eco\"], #, \"opener_8_moves\"],\n",
    "    values=\"total_games\",\n",
    "    color=\"winrate\",\n",
    "    color_continuous_scale=\"RdYlGn\",\n",
    "    color_continuous_midpoint=0.5,\n",
    "    range_color=[0, 1],\n",
    "    title=\"Opening Move Analysis - Winrate by Path\",\n",
    "    hover_data={\"total_games\": True, \"winrate\": \":.2%\"},\n",
    ")\n",
    "\n",
    "# Show in notebook\n",
    "fig.update_layout(width=1000, height=1000)\n",
    "fig.show()\n"
   ]
  }
 ],
 "metadata": {
  "kernelspec": {
   "display_name": "venv",
   "language": "python",
   "name": "python3"
  },
  "language_info": {
   "codemirror_mode": {
    "name": "ipython",
    "version": 3
   },
   "file_extension": ".py",
   "mimetype": "text/x-python",
   "name": "python",
   "nbconvert_exporter": "python",
   "pygments_lexer": "ipython3",
   "version": "3.12.5"
  }
 },
 "nbformat": 4,
 "nbformat_minor": 5
}
