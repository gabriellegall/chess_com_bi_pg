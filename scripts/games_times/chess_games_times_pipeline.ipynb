{
 "cells": [
  {
   "cell_type": "code",
   "execution_count": 27,
   "id": "9e1d348d",
   "metadata": {},
   "outputs": [],
   "source": [
    "%reset -f"
   ]
  },
  {
   "cell_type": "code",
   "execution_count": 28,
   "id": "af7c8220",
   "metadata": {},
   "outputs": [
    {
     "name": "stdout",
     "output_type": "stream",
     "text": [
      "Query to fetch games executed successfully!\n"
     ]
    }
   ],
   "source": [
    "import pandas as pd\n",
    "from sqlalchemy import create_engine, inspect, text\n",
    "from datetime import datetime\n",
    "\n",
    "# Configuration — adjust to your local PostgreSQL setup\n",
    "DB_NAME         = \"sandbox\"\n",
    "DB_USER         = \"postgres\"\n",
    "DB_PASSWORD     = \"AsidDe5845edDikkDee\"\n",
    "DB_HOST         = \"localhost\"\n",
    "DB_PORT         = \"5432\"\n",
    "\n",
    "engine = create_engine(f\"postgresql://{DB_USER}:{DB_PASSWORD}@{DB_HOST}:{DB_PORT}/{DB_NAME}\")\n",
    "\n",
    "# Define your table names (no backticks needed in PostgreSQL)\n",
    "schema_games        = \"stg_chess_com\"\n",
    "table_games         = \"players_games\"\n",
    "schema_games_times  = \"stg_times\"\n",
    "table_games_times   = \"games_times\"\n",
    "\n",
    "# Helper: check if table with prefix exists\n",
    "def table_with_prefix_exists(engine, schema_name, table_prefix):\n",
    "    inspector = inspect(engine)\n",
    "    tables = inspector.get_table_names(schema=schema_name)\n",
    "    return any(t.startswith(table_prefix) for t in tables)\n",
    "\n",
    "# Choose query based on table existence\n",
    "if table_with_prefix_exists(engine, schema_games_times, schema_games_times):\n",
    "    query = f\"\"\"\n",
    "    SELECT\n",
    "        game.uuid,\n",
    "        MAX(game.pgn) AS pgn\n",
    "    FROM {schema_games}.{table_games} game\n",
    "    LEFT JOIN (\n",
    "        SELECT DISTINCT uuid FROM {schema_games_times}.{schema_games_times} games_moves\n",
    "    ) games_moves\n",
    "    ON game.uuid = games_moves.uuid\n",
    "    WHERE \n",
    "        games_moves.uuid IS NULL\n",
    "        AND LENGTH(game.pgn) > 0\n",
    "        AND game.rules = 'chess'\n",
    "    GROUP BY 1\n",
    "    \"\"\"\n",
    "else:\n",
    "    query = f\"SELECT uuid, pgn FROM {schema_games}.{table_games}\"\n",
    "\n",
    "# Run query and load into DataFrame\n",
    "games = pd.read_sql(query, engine)\n",
    "print(\"Query to fetch games executed successfully!\")"
   ]
  },
  {
   "cell_type": "code",
   "execution_count": 31,
   "id": "c7de62cb",
   "metadata": {},
   "outputs": [],
   "source": [
    "import pandas as pd\n",
    "import re\n",
    "\n",
    "def extract_move_data(pgn):\n",
    "    clocks = re.findall(r'\\[%clk (\\d+):(\\d{2}):(\\d{2}(?:\\.\\d)?)\\]', pgn)\n",
    "    return [\n",
    "        {\n",
    "            'move_number': i + 1,\n",
    "            'time_remaining_seconds': int(h) * 3600 + int(m) * 60 + float(s),\n",
    "            'time_remaining': f\"{h}:{m}:{s}\"\n",
    "        }\n",
    "        for i, (h, m, s) in enumerate(clocks)\n",
    "    ]\n",
    "\n",
    "games['move_data'] = games['pgn'].apply(extract_move_data)\n",
    "games_expanded = games.explode('move_data', ignore_index=True)\n",
    "\n",
    "games_expanded[['move_number', 'time_remaining_seconds', 'time_remaining']] = pd.json_normalize(games_expanded['move_data'])\n",
    "games_expanded[\"log_timestamp\"] = datetime.now().strftime(\"%Y-%m-%d %H:%M:%S\")\n",
    "games_expanded = games_expanded.drop(columns=['move_data', 'pgn'])"
   ]
  },
  {
   "cell_type": "code",
   "execution_count": 32,
   "id": "42f74f7c",
   "metadata": {},
   "outputs": [
    {
     "data": {
      "text/plain": [
       "94"
      ]
     },
     "execution_count": 32,
     "metadata": {},
     "output_type": "execute_result"
    }
   ],
   "source": [
    "with engine.begin() as conn:\n",
    "    conn.execute(text(f\"CREATE SCHEMA IF NOT EXISTS {schema_games_times}\"))\n",
    "\n",
    "games_expanded.to_sql(\n",
    "    name        = table_games_times,\n",
    "    con         = engine,\n",
    "    schema      = schema_games_times,     \n",
    "    if_exists   = 'append', # If the table exists\n",
    "    index       = False # Ignore the df index   \n",
    ")"
   ]
  }
 ],
 "metadata": {
  "kernelspec": {
   "display_name": "venv",
   "language": "python",
   "name": "python3"
  },
  "language_info": {
   "codemirror_mode": {
    "name": "ipython",
    "version": 3
   },
   "file_extension": ".py",
   "mimetype": "text/x-python",
   "name": "python",
   "nbconvert_exporter": "python",
   "pygments_lexer": "ipython3",
   "version": "3.12.5"
  }
 },
 "nbformat": 4,
 "nbformat_minor": 5
}
