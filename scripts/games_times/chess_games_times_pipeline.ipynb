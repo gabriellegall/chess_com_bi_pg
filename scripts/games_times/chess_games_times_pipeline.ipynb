{
 "cells": [
  {
   "cell_type": "code",
   "execution_count": 1,
   "id": "9e1d348d",
   "metadata": {},
   "outputs": [],
   "source": [
    "%reset -f"
   ]
  },
  {
   "cell_type": "code",
   "execution_count": 4,
   "id": "af7c8220",
   "metadata": {},
   "outputs": [],
   "source": [
    "import sys\n",
    "import os\n",
    "import pandas as pd\n",
    "\n",
    "sys.path.append(os.path.abspath('..'))\n",
    "from helper import get_engine, games_to_process\n",
    "\n",
    "engine  = get_engine()\n",
    "query   = games_to_process(engine, schema=\"stg_times\", table=\"games_times\")\n",
    "games   = pd.read_sql(query, engine)"
   ]
  },
  {
   "cell_type": "code",
   "execution_count": null,
   "id": "c7de62cb",
   "metadata": {},
   "outputs": [],
   "source": [
    "import pandas as pd\n",
    "import re\n",
    "from datetime import datetime\n",
    "\n",
    "def extract_move_data(pgn):\n",
    "    clocks = re.findall(r'\\[%clk (\\d+):(\\d{2}):(\\d{2}(?:\\.\\d)?)\\]', pgn)\n",
    "    return [\n",
    "        {\n",
    "            'move_number': i + 1,\n",
    "            'time_remaining_seconds': int(h) * 3600 + int(m) * 60 + float(s),\n",
    "            'time_remaining': f\"{h}:{m}:{s}\"\n",
    "        }\n",
    "        for i, (h, m, s) in enumerate(clocks)\n",
    "    ]"
   ]
  },
  {
   "cell_type": "code",
   "execution_count": 57,
   "id": "42f74f7c",
   "metadata": {},
   "outputs": [],
   "source": [
    "if not games.empty:\n",
    "    games['move_data'] = games['pgn'].apply(extract_move_data)\n",
    "    games_expanded = games.explode('move_data', ignore_index=True)\n",
    "\n",
    "    games_expanded[['move_number', 'time_remaining_seconds', 'time_remaining']] = pd.json_normalize(games_expanded['move_data'])\n",
    "    games_expanded[\"log_timestamp\"] = datetime.now().strftime(\"%Y-%m-%d %H:%M:%S\")\n",
    "    games_expanded = games_expanded.drop(columns=['move_data', 'pgn'])\n",
    "\n",
    "    with engine.begin() as conn:\n",
    "        conn.execute(text(f\"CREATE SCHEMA IF NOT EXISTS {schema_games_times}\"))\n",
    "\n",
    "    games_expanded.to_sql(\n",
    "        name        = table_games_times,\n",
    "        con         = engine,\n",
    "        schema      = schema_games_times,\n",
    "        if_exists   = 'append',\n",
    "        index       = False\n",
    "    )"
   ]
  }
 ],
 "metadata": {
  "kernelspec": {
   "display_name": "venv",
   "language": "python",
   "name": "python3"
  },
  "language_info": {
   "codemirror_mode": {
    "name": "ipython",
    "version": 3
   },
   "file_extension": ".py",
   "mimetype": "text/x-python",
   "name": "python",
   "nbconvert_exporter": "python",
   "pygments_lexer": "ipython3",
   "version": "3.12.5"
  }
 },
 "nbformat": 4,
 "nbformat_minor": 5
}
